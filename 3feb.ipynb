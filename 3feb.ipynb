{
 "cells": [
  {
   "cell_type": "markdown",
   "id": "bcfdbab1-c015-4499-a0f2-7b2fa67ecc03",
   "metadata": {},
   "source": [
    "Q1.Which keyword is used to create a function? Create a function to return a list of odd numbers in the\n",
    "range of 1 to 25.\n",
    "\n",
    "answer:def keyword is used to create a function."
   ]
  },
  {
   "cell_type": "code",
   "execution_count": 15,
   "id": "1b1e0a05-e8b8-4a26-a8b9-30a6952fe085",
   "metadata": {},
   "outputs": [
    {
     "name": "stdout",
     "output_type": "stream",
     "text": [
      "[1, 3, 5, 7, 9, 11, 13, 15, 17, 19, 21, 23, 25]\n"
     ]
    }
   ],
   "source": [
    "def odd_num():\n",
    "    odd=[]\n",
    "    for i in range(1,26):\n",
    "        if i % 2 ==1:\n",
    "            odd.append(i)\n",
    "    return odd\n",
    "print(odd_num())\n",
    "    "
   ]
  },
  {
   "cell_type": "raw",
   "id": "e4a1a929-ad77-4c0b-8c48-c40405928320",
   "metadata": {},
   "source": [
    "Q2. Why *args and **kwargs is used in some functions? Create a function each for *args and **kwargs to demonstrate their use."
   ]
  },
  {
   "cell_type": "raw",
   "id": "8f2d82eb-b2dc-4800-9470-227dac93f521",
   "metadata": {},
   "source": [
    "answer:*args and **kwargs are special syntax in Python that allow a function to accept an arbitrary number of arguments and/or keyword arguments.\n",
    "\n",
    "*args is used to pass a variable number of non-keyword arguments to a function. It allows you to pass any number of arguments to the function without having to explicitly define them as individual parameters. In the function definition, *args is used to collect all of the extra arguments into a tuple."
   ]
  },
  {
   "cell_type": "code",
   "execution_count": 16,
   "id": "308fb7a7-e7b8-4252-b1e7-9875681e3de3",
   "metadata": {},
   "outputs": [
    {
     "name": "stdout",
     "output_type": "stream",
     "text": [
      "15\n"
     ]
    }
   ],
   "source": [
    "def sum_numbers(*args):\n",
    "    total = 0\n",
    "    for num in args:\n",
    "        total += num\n",
    "    return total\n",
    "\n",
    "print(sum_numbers(1, 2, 3, 4, 5))  # Output: 15\n"
   ]
  },
  {
   "cell_type": "raw",
   "id": "8f59da34-36bf-438e-98b1-4a6718915baa",
   "metadata": {},
   "source": [
    "**kwargs is used to pass a variable number of keyword arguments to a function. It allows you to pass any number of keyword arguments to the function without having to explicitly define them as individual parameters. In the function definition, **kwargs is used to collect all of the extra keyword arguments into a dictionary."
   ]
  },
  {
   "cell_type": "code",
   "execution_count": 17,
   "id": "acb97d30-4b7a-4b62-bcca-7f0140a3d1cd",
   "metadata": {},
   "outputs": [
    {
     "name": "stdout",
     "output_type": "stream",
     "text": [
      "name: John\n",
      "age: 30\n",
      "city: New York\n"
     ]
    }
   ],
   "source": [
    "def print_info(**kwargs):\n",
    "    for key, value in kwargs.items():\n",
    "        print(f\"{key}: {value}\")\n",
    "\n",
    "print_info(name=\"John\", age=30, city=\"New York\")\n"
   ]
  },
  {
   "cell_type": "raw",
   "id": "34cd33dc-f193-4d23-aa24-8b98a7c1abd0",
   "metadata": {},
   "source": [
    "Q3. What is an iterator in python? Name the method used to initialise the iterator object and the method\n",
    "used for iteration. Use these methods to print the first five elements of the given list [2, 4, 6, 8, 10, 12, 14,\n",
    "16, 18, 20]."
   ]
  },
  {
   "cell_type": "raw",
   "id": "668ba591-fbf1-4234-8fb1-b166c9478ff6",
   "metadata": {},
   "source": [
    "answer:In Python, an iterator is an object that allows you to traverse through a sequence of values one by one. It can be used to iterate through a list, tuple, dictionary, or any other iterable object.\n",
    "\n",
    "An iterator is initialized using the iter() method, which takes an iterable object as its argument and returns an iterator object. The next() method is used to iterate through the values of the iterator. Calling next() returns the next value in the sequence until the end of the sequence is reached, at which point it raises the StopIteration exception."
   ]
  },
  {
   "cell_type": "code",
   "execution_count": 1,
   "id": "4bc9dfd0-22d1-45a0-b09b-ea6835498133",
   "metadata": {},
   "outputs": [
    {
     "name": "stdout",
     "output_type": "stream",
     "text": [
      "2\n",
      "4\n",
      "6\n",
      "8\n",
      "10\n"
     ]
    }
   ],
   "source": [
    "my_list = [2, 4, 6, 8, 10, 12, 14, 16, 18, 20]\n",
    "\n",
    "# Initialize the iterator\n",
    "my_iterator = iter(my_list)\n",
    "\n",
    "# Iterate through the first five elements\n",
    "for i in range(5):\n",
    "    element = next(my_iterator)\n",
    "    print(element)\n"
   ]
  },
  {
   "cell_type": "raw",
   "id": "6d014941-0904-4eae-9e5d-8e95f731cbb1",
   "metadata": {},
   "source": [
    "Q4. What is a generator function in python? Why yield keyword is used? Give an example of a generator\n",
    "function."
   ]
  },
  {
   "cell_type": "raw",
   "id": "ee1bde1e-be83-4acf-86b4-0b65dc165a2e",
   "metadata": {},
   "source": [
    "answer:In Python, a generator function is a special type of function that allows you to generate a sequence of values on the fly, as opposed to returning a complete sequence all at once. This is useful when dealing with very large sequences that would consume too much memory if stored in memory all at once.\n",
    "\n",
    "A generator function is defined like a regular function, but instead of using the return statement, it uses the yield keyword. The yield keyword allows you to temporarily suspend the execution of the function and return a value to the caller, while keeping track of where it left off. The next time the function is called, it picks up where it left off and continues execution."
   ]
  },
  {
   "cell_type": "code",
   "execution_count": null,
   "id": "7a054486-b5af-4b8c-a2cb-cd26bfd2e085",
   "metadata": {},
   "outputs": [],
   "source": [
    "def fibonacci():\n",
    "    a, b = 0, 1\n",
    "    while True:\n",
    "        yield a\n",
    "        a, b = b, a + b\n",
    "fib = fibonacci()\n",
    "for i in range(10):\n",
    "    print(next(fib))\n"
   ]
  },
  {
   "cell_type": "raw",
   "id": "f681ffe1-b078-4d02-a75a-4c7820c1e515",
   "metadata": {},
   "source": [
    "Q5. Create a generator function for prime numbers less than 1000. Use the next() method to print the\n",
    "first 20 prime numbers."
   ]
  },
  {
   "cell_type": "raw",
   "id": "20d5656e-bc64-4f7b-b87e-36ef737cb189",
   "metadata": {},
   "source": [
    "answer:"
   ]
  },
  {
   "cell_type": "code",
   "execution_count": 1,
   "id": "a7770f91-2516-4514-bfa2-ab69299843da",
   "metadata": {},
   "outputs": [
    {
     "name": "stdout",
     "output_type": "stream",
     "text": [
      "2\n",
      "3\n",
      "5\n",
      "7\n",
      "11\n",
      "13\n",
      "17\n",
      "19\n",
      "23\n",
      "29\n",
      "31\n",
      "37\n",
      "41\n",
      "43\n",
      "47\n",
      "53\n",
      "59\n",
      "61\n",
      "67\n",
      "71\n"
     ]
    }
   ],
   "source": [
    "def generate_primes():\n",
    "    primes = []\n",
    "    for num in range(2, 1000):\n",
    "        is_prime = True\n",
    "        for prime in primes:\n",
    "            if num % prime == 0:\n",
    "                is_prime = False\n",
    "                break\n",
    "        if is_prime:\n",
    "            primes.append(num)\n",
    "            yield num\n",
    "prime_generator = generate_primes()\n",
    "for i in range(20):\n",
    "    print(next(prime_generator))\n",
    "\n"
   ]
  },
  {
   "cell_type": "raw",
   "id": "5d0d3bde-4814-4aed-a1ea-93efc027e508",
   "metadata": {},
   "source": [
    "Q6. Write a python program to print the first 10 Fibonacci numbers using a while loop.\n",
    "answer:"
   ]
  },
  {
   "cell_type": "code",
   "execution_count": 4,
   "id": "c992d0fe-e07c-4168-adf0-f073b91e6a04",
   "metadata": {},
   "outputs": [
    {
     "name": "stdout",
     "output_type": "stream",
     "text": [
      "0\n",
      "1\n",
      "1\n",
      "2\n",
      "3\n",
      "5\n",
      "8\n",
      "13\n",
      "21\n",
      "34\n"
     ]
    }
   ],
   "source": [
    "def print_fibonacci():\n",
    "    n=10\n",
    "    a,b =0,1\n",
    "    print(a)\n",
    "    print(b)\n",
    "    count=2\n",
    "    while count<n:\n",
    "        c=a+b\n",
    "        print(c)\n",
    "        a,b =b,c\n",
    "        count +=1\n",
    "        \n",
    "print_fibonacci()\n",
    "    "
   ]
  },
  {
   "cell_type": "raw",
   "id": "c20467f2-fdf9-437f-8e38-cd0e3a1d1a6c",
   "metadata": {},
   "source": [
    "Q7. Write a List Comprehension to iterate through the given string: ‘pwskills’.\n",
    "Expected output: ['p', 'w', 's', 'k', 'i', 'l', 'l', 's']"
   ]
  },
  {
   "cell_type": "code",
   "execution_count": 5,
   "id": "2b68c005-003c-4bf3-9dff-c7b6d0b9ae69",
   "metadata": {},
   "outputs": [
    {
     "name": "stdout",
     "output_type": "stream",
     "text": [
      "['p', 'w', 's', 'k', 'i', 'l', 'l', 's']\n"
     ]
    }
   ],
   "source": [
    "str = 'pwskills'\n",
    "result=[char for char in str]\n",
    "print(result)"
   ]
  },
  {
   "cell_type": "raw",
   "id": "a6f3b5a2-b8ac-4de9-b87c-684b5587c7eb",
   "metadata": {},
   "source": [
    "Q8. Write a python program to check whether a given number is Palindrome or not using a while loop."
   ]
  },
  {
   "cell_type": "code",
   "execution_count": 6,
   "id": "0e32186e-2e6c-45f9-bfb5-38bef146dead",
   "metadata": {},
   "outputs": [
    {
     "name": "stdin",
     "output_type": "stream",
     "text": [
      "Enter a number:  67890\n"
     ]
    },
    {
     "name": "stdout",
     "output_type": "stream",
     "text": [
      "67890 is not a palindrome.\n"
     ]
    }
   ],
   "source": [
    "def is_palindrome(number):\n",
    "    original_number = number\n",
    "    reverse_number = 0\n",
    "\n",
    "    while number > 0:\n",
    "        remainder = number % 10\n",
    "        reverse_number = reverse_number * 10 + remainder\n",
    "        number = number // 10\n",
    "\n",
    "    if original_number == reverse_number:\n",
    "        return True\n",
    "    else:\n",
    "        return False\n",
    "\n",
    "\n",
    "number = int(input(\"Enter a number: \"))\n",
    "\n",
    "if is_palindrome(number):\n",
    "    print(number, \"is a palindrome.\")\n",
    "else:\n",
    "    print(number, \"is not a palindrome.\")\n"
   ]
  },
  {
   "cell_type": "raw",
   "id": "e6958436-39e1-4e73-8b1d-460952834dc2",
   "metadata": {},
   "source": [
    "Q9. Write a code to print odd numbers from 1 to 100 using list comprehension."
   ]
  },
  {
   "cell_type": "code",
   "execution_count": 7,
   "id": "83fe0819-2d6e-4dd2-96ba-260830b666a4",
   "metadata": {},
   "outputs": [
    {
     "name": "stdout",
     "output_type": "stream",
     "text": [
      "[1, 3, 5, 7, 9, 11, 13, 15, 17, 19, 21, 23, 25, 27, 29, 31, 33, 35, 37, 39, 41, 43, 45, 47, 49, 51, 53, 55, 57, 59, 61, 63, 65, 67, 69, 71, 73, 75, 77, 79, 81, 83, 85, 87, 89, 91, 93, 95, 97, 99]\n"
     ]
    }
   ],
   "source": [
    "odd_numbers = [num for num in range(1, 101) if num % 2 != 0]\n",
    "print(odd_numbers)\n"
   ]
  },
  {
   "cell_type": "code",
   "execution_count": null,
   "id": "f63ebd3c-183b-4541-b8d2-aed6c93f06b3",
   "metadata": {},
   "outputs": [],
   "source": []
  }
 ],
 "metadata": {
  "kernelspec": {
   "display_name": "Python 3 (ipykernel)",
   "language": "python",
   "name": "python3"
  },
  "language_info": {
   "codemirror_mode": {
    "name": "ipython",
    "version": 3
   },
   "file_extension": ".py",
   "mimetype": "text/x-python",
   "name": "python",
   "nbconvert_exporter": "python",
   "pygments_lexer": "ipython3",
   "version": "3.10.8"
  }
 },
 "nbformat": 4,
 "nbformat_minor": 5
}
