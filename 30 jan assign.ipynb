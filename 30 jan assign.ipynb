{
 "cells": [
  {
   "cell_type": "markdown",
   "id": "ad3f98e4-a585-46be-9af7-d02f5e2b5a25",
   "metadata": {},
   "source": [
    "1.write a program to accept percentage from thee user and display the gradde according to the following criteria :\n",
    "\n",
    "answer:"
   ]
  },
  {
   "cell_type": "code",
   "execution_count": 9,
   "id": "3708bf99-4f30-423d-b278-bb11632869ac",
   "metadata": {},
   "outputs": [
    {
     "name": "stdin",
     "output_type": "stream",
     "text": [
      "enterr your marks 50\n"
     ]
    },
    {
     "name": "stdout",
     "output_type": "stream",
     "text": [
      "D Grade\n"
     ]
    }
   ],
   "source": [
    "marks=int(input(\"enterr your marks: \"))\n",
    "if marks >90:\n",
    "    print(\"A Grade \")\n",
    "elif marks >80 and marks <=90:\n",
    "    print(\"B Grade\")\n",
    "elif  marks >=60 and marks <=80:\n",
    "    print(\"C Grade\")\n",
    "else :\n",
    "    print(\"D Grade\")"
   ]
  },
  {
   "cell_type": "markdown",
   "id": "3bb8de6d-944c-40fd-9e88-318c4d1757ed",
   "metadata": {},
   "source": [
    "2. write a program to accept the cost price of a bike and display the road tax to be paid according to the following criteria :"
   ]
  },
  {
   "cell_type": "code",
   "execution_count": 11,
   "id": "fb179268-275a-4bff-875a-a5d1a40c152b",
   "metadata": {},
   "outputs": [
    {
     "name": "stdin",
     "output_type": "stream",
     "text": [
      "enter the cost of the bike in rupees 34000\n"
     ]
    },
    {
     "name": "stdout",
     "output_type": "stream",
     "text": [
      "5% tax you have to pay\n"
     ]
    }
   ],
   "source": [
    "price = int(input(\"enter the cost of the bike in rupees\"))\n",
    "if price >100000:\n",
    "    print(\"15% tax you have to pay\")\n",
    "elif price >50000 and price <=100000:\n",
    "    print(\"10% tax you have to pay\")\n",
    "else:\n",
    "    print(\"5% tax you have to pay\")"
   ]
  },
  {
   "cell_type": "markdown",
   "id": "fbab9e2b-c8c0-4f31-ba07-705e0aef747b",
   "metadata": {},
   "source": [
    "3. Accept and city from the user and display monuments of that city."
   ]
  },
  {
   "cell_type": "code",
   "execution_count": 16,
   "id": "89f8021b-6137-451f-b12e-5298f7c68806",
   "metadata": {},
   "outputs": [
    {
     "name": "stdin",
     "output_type": "stream",
     "text": [
      "enter the name of your city  g\n"
     ]
    },
    {
     "name": "stdout",
     "output_type": "stream",
     "text": [
      "not known\n"
     ]
    }
   ],
   "source": [
    "city_name=input(\"enter the name of your city \")\n",
    "if city_name==\"Delhi\":\n",
    "    print(\"monnument is Red Fort\")\n",
    "elif city_name == \"agra\":\n",
    "    print(\" monument is Taj Mahal\")\n",
    "elif city_name == \"Jaipur\":\n",
    "    print(\"monument is Jal Mahal\")\n",
    "else:\n",
    "    print(\"not known\")"
   ]
  },
  {
   "cell_type": "markdown",
   "id": "f08d9159-92a3-43f1-9ffb-54780c342dee",
   "metadata": {},
   "source": [
    "4.check how many times a given number can be divided by 3 before it is less than or equal to 10."
   ]
  },
  {
   "cell_type": "code",
   "execution_count": 18,
   "id": "338d563f-4dbe-4131-ab8c-64dbc6eef46d",
   "metadata": {},
   "outputs": [
    {
     "name": "stdin",
     "output_type": "stream",
     "text": [
      "Enter a number:  40\n"
     ]
    },
    {
     "name": "stdout",
     "output_type": "stream",
     "text": [
      "The number can be divided by 3 for 2 times before it is less than or equal to 10.\n"
     ]
    }
   ],
   "source": [
    "num = int(input(\"Enter a number: \"))\n",
    "count = 0\n",
    "while num > 10:\n",
    "    num = num / 3\n",
    "    count += 1\n",
    "print(\"The number can be divided by 3 for\", count, \"times before it is less than or equal to 10.\")\n"
   ]
  },
  {
   "cell_type": "markdown",
   "id": "59967da0-08b8-441c-af48-7818ab9e6175",
   "metadata": {},
   "source": [
    "5.why and when to use while loop inn python  give a detailed description with example."
   ]
  },
  {
   "cell_type": "markdown",
   "id": "94f51c9c-0f91-4589-830b-f3d3afbccbd8",
   "metadata": {},
   "source": [
    " answer: A while loop in Python is used to repeatedly execute a block of code as long as a certain condition is true. The loop continues to execute until the condition becomes false. It is a versatile loop construct that can be used in a wide range of scenarios.\n",
    "\n",
    "Here's an example to illustrate the use of a while loop in Python:\n",
    "\n"
   ]
  },
  {
   "cell_type": "code",
   "execution_count": 19,
   "id": "94aabb85-836c-4c6c-9420-6fe2f975c92d",
   "metadata": {},
   "outputs": [
    {
     "name": "stdout",
     "output_type": "stream",
     "text": [
      "The count is: 0\n",
      "The count is: 1\n",
      "The count is: 2\n",
      "The count is: 3\n",
      "The count is: 4\n"
     ]
    }
   ],
   "source": [
    "count = 0\n",
    "while count < 5:\n",
    "    print(\"The count is:\", count)\n",
    "    count += 1\n"
   ]
  },
  {
   "cell_type": "markdown",
   "id": "9d9337c3-a1c2-4c51-9253-0e0bc0237865",
   "metadata": {},
   "source": [
    "6.use nested while loop to print 3 diffeerent pattern"
   ]
  },
  {
   "cell_type": "code",
   "execution_count": 20,
   "id": "ad6024a1-ec31-4ea5-b36f-ae45eb44efaa",
   "metadata": {},
   "outputs": [
    {
     "name": "stdout",
     "output_type": "stream",
     "text": [
      "1\n",
      "23\n",
      "456\n",
      "78910\n"
     ]
    }
   ],
   "source": [
    "i = 1\n",
    "num = 1\n",
    "while i <= 4:\n",
    "    j = 1\n",
    "    while j <= i:\n",
    "        print(num, end=\"\")\n",
    "        num += 1\n",
    "        j += 1\n",
    "    print()\n",
    "    i += 1\n"
   ]
  },
  {
   "cell_type": "code",
   "execution_count": 22,
   "id": "5ff21e1c-86dd-46d2-a79e-a29a9bee7582",
   "metadata": {},
   "outputs": [
    {
     "name": "stdout",
     "output_type": "stream",
     "text": [
      "*\n",
      "**\n",
      "***\n",
      "****\n",
      "*****\n"
     ]
    }
   ],
   "source": [
    "i = 1\n",
    "while i <= 5:\n",
    "    j = 1\n",
    "    while j <= i:\n",
    "        print(\"*\", end=\"\")\n",
    "        j += 1\n",
    "    print()\n",
    "    i += 1\n"
   ]
  },
  {
   "cell_type": "markdown",
   "id": "b8320359-bec3-4338-bc7c-40c262d11062",
   "metadata": {},
   "source": [
    "7.reverse awhile loop to displaynumber from 10 to 1"
   ]
  },
  {
   "cell_type": "code",
   "execution_count": 2,
   "id": "35ab8280-4979-4b45-8459-1c150597fdc2",
   "metadata": {},
   "outputs": [
    {
     "name": "stdout",
     "output_type": "stream",
     "text": [
      "10\n",
      "9\n",
      "8\n",
      "7\n",
      "6\n",
      "5\n",
      "4\n",
      "3\n",
      "2\n",
      "1\n"
     ]
    }
   ],
   "source": [
    "num = 10\n",
    "while num >= 1:\n",
    "    print(num)\n",
    "    num -= 1\n"
   ]
  },
  {
   "cell_type": "code",
   "execution_count": null,
   "id": "5e38027c-cd94-4d95-9280-35fdf5fc6f50",
   "metadata": {},
   "outputs": [],
   "source": []
  }
 ],
 "metadata": {
  "kernelspec": {
   "display_name": "Python 3 (ipykernel)",
   "language": "python",
   "name": "python3"
  },
  "language_info": {
   "codemirror_mode": {
    "name": "ipython",
    "version": 3
   },
   "file_extension": ".py",
   "mimetype": "text/x-python",
   "name": "python",
   "nbconvert_exporter": "python",
   "pygments_lexer": "ipython3",
   "version": "3.10.8"
  }
 },
 "nbformat": 4,
 "nbformat_minor": 5
}
