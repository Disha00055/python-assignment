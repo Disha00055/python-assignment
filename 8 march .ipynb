{
 "cells": [
  {
   "cell_type": "raw",
   "id": "26393c65-0e0e-4c41-a100-bf3b9adf51e6",
   "metadata": {},
   "source": [
    "Q1. What is the Probability density function?\n",
    "answer: In statistics and probability theory, the Probability Density Function (PDF) is a function that describes the probability distribution of a continuous random variable. The PDF is used to specify the likelihood of the random variable falling within a particular range of values.\n",
    "\n",
    "Mathematically, the PDF is denoted as f(x) and is defined as the derivative of the cumulative distribution function (CDF) with respect to x. It represents the relative likelihood of the random variable taking on a specific value. The PDF must satisfy certain properties: it must be non-negative for all values of x, and the total area under the curve of the PDF must be equal to 1.\n",
    "\n",
    "The PDF can be used to calculate the probability of the random variable falling within a certain interval by integrating the PDF over that interval. Specifically, the probability of the random variable falling between two values a and b is given by the integral of the PDF from a to b:\n",
    "\n",
    "P(a ≤ X ≤ b) = ∫[a to b] f(x) dx\n",
    "\n",
    "The PDF is commonly used in various statistical analyses, such as hypothesis testing, estimation, and modeling of continuous random variables. It provides important information about the shape, central tendency, and spread of the probability distribution."
   ]
  },
  {
   "cell_type": "raw",
   "id": "90eafa6c-9945-4163-b99d-c9cd5087bb0e",
   "metadata": {},
   "source": [
    "Q2. What are the types of Probability distribution?\n",
    "Answer: There are several types of probability distributions, each with its own characteristics and applications. Here are some of the most commonly encountered probability distributions:\n",
    "\n",
    "Uniform Distribution: In a uniform distribution, every outcome within a given range has an equal probability. The probability density function is constant within the range and zero outside of it. It is often represented as a rectangular shape.\n",
    "\n",
    "Normal Distribution (Gaussian Distribution): The normal distribution is a continuous probability distribution that is symmetric and bell-shaped. It is characterized by its mean and standard deviation, which determine its location and spread. Many natural phenomena follow a normal distribution, and it is widely used in statistics and data analysis.\n",
    "\n",
    "Binomial Distribution: The binomial distribution describes the number of successes in a fixed number of independent Bernoulli trials, where each trial has the same probability of success. It is characterized by two parameters: the number of trials and the probability of success in each trial.\n",
    "\n",
    "Poisson Distribution: The Poisson distribution models the number of events occurring in a fixed interval of time or space when the events are rare and independent of each other. It is often used to model the occurrence of rare events, such as accidents or customer arrivals.\n",
    "\n",
    "Exponential Distribution: The exponential distribution describes the time between events in a Poisson process, where events occur continuously and independently at a constant average rate. It is commonly used to model the lifetimes of certain types of objects or the time between arrivals in a queue.\n",
    "\n",
    "Gamma Distribution: The gamma distribution is a family of continuous probability distributions that generalizes the exponential distribution. It is often used to model the waiting time until a given number of events occur in a Poisson process.\n",
    "\n",
    "Chi-Square Distribution: The chi-square distribution is a continuous probability distribution that arises in statistics, particularly in hypothesis testing. It is used to model the sum of squared standard normal random variables.\n",
    "\n",
    "Student's t-Distribution: The t-distribution is used in hypothesis testing and confidence interval estimation when the sample size is small and the population standard deviation is unknown. It is similar in shape to the normal distribution but has thicker tails."
   ]
  },
  {
   "cell_type": "raw",
   "id": "12b6d52c-2e4c-4e76-be21-d25c54fcdaba",
   "metadata": {},
   "source": [
    "Q3. Write a Python function to calculate the probability density function of a normal distribution with\n",
    "given mean and standard deviation at a given point."
   ]
  },
  {
   "cell_type": "code",
   "execution_count": 3,
   "id": "9bfe576f-8d7b-4901-a17d-7ec89e072fc3",
   "metadata": {},
   "outputs": [
    {
     "name": "stdout",
     "output_type": "stream",
     "text": [
      "PDF at x = 2.5 is 0.41020121068796883\n"
     ]
    }
   ],
   "source": [
    "import math\n",
    "\n",
    "def normal_pdf(x, mean, std_dev):\n",
    "    exponent = -((x - mean) ** 2) / (2 * std_dev ** 2)\n",
    "    coefficient = 1 / (std_dev * math.sqrt(2 * math.pi))\n",
    "    pdf = coefficient * math.exp(exponent)\n",
    "    return pdf\n",
    "x = 2.5\n",
    "mean = 3.0\n",
    "std_dev = 0.8\n",
    "\n",
    "pdf_value = normal_pdf(x, mean, std_dev)\n",
    "print(\"PDF at x =\", x, \"is\", pdf_value)\n",
    "\n"
   ]
  },
  {
   "cell_type": "raw",
   "id": "7e66a741-2ac8-49f7-ab9c-2a7b1461f858",
   "metadata": {},
   "source": [
    "Q4. What are the properties of Binomial distribution? Give two examples of events where binomial\n",
    "distribution can be applied.\n",
    "answer: The binomial distribution is a discrete probability distribution that models the number of successes in a fixed number of independent Bernoulli trials, where each trial has the same probability of success. Here are some key properties of the binomial distribution:\n",
    "\n",
    "Fixed Number of Trials: The binomial distribution is defined for a fixed number of trials, denoted by \"n\". Each trial is independent and has two possible outcomes: success or failure.\n",
    "\n",
    "Independent Trials: The outcome of each trial is independent of the outcomes of other trials. The probability of success, denoted by \"p\", remains constant across all trials.\n",
    "\n",
    "Two Possible Outcomes: Each trial can result in either success or failure. The probability of success is denoted by \"p\", while the probability of failure is denoted by \"q\", where q = 1 - p.\n",
    "\n",
    "Constant Probability of Success: The probability of success, denoted by \"p\", remains the same for each trial. This is a key assumption in the binomial distribution.\n",
    "\n",
    "Discrete Probability Distribution: The binomial distribution is a discrete distribution, meaning it deals with whole numbers (0, 1, 2, ...). It gives the probabilities of obtaining different numbers of successes in the fixed number of trials.\n",
    "\n",
    "Examples of events where the binomial distribution can be applied include:\n",
    "\n",
    "Coin Flips: When flipping a fair coin multiple times, each flip can be considered a Bernoulli trial. If we are interested in the number of heads obtained in a fixed number of coin flips, we can use the binomial distribution.\n",
    "\n",
    "Election Outcomes: In a political election, each voter can be seen as having two possible outcomes: voting for a candidate or not voting for that candidate. If we want to analyze the number of votes a candidate receives in a fixed number of voters, we can use the binomial distribution.\n",
    "\n",
    "These are just a couple of examples, but the binomial distribution can be applied to many scenarios involving repeated independent trials with two possible outcomes."
   ]
  },
  {
   "cell_type": "raw",
   "id": "4996f325-61bb-4f96-9a30-8919eaa37c5d",
   "metadata": {},
   "source": [
    "Q5. Generate a random sample of size 1000 from a binomial distribution with probability of success 0.4\n",
    "and plot a histogram of the results using matplotlib."
   ]
  },
  {
   "cell_type": "code",
   "execution_count": 4,
   "id": "65f833de-ad93-442b-a85d-15c0cebf829f",
   "metadata": {},
   "outputs": [
    {
     "data": {
      "image/png": "[encoded data removed]",
      "text/plain": [
       "<Figure size 640x480 with 1 Axes>"
      ]
     },
     "metadata": {},
     "output_type": "display_data"
    }
   ],
   "source": [
    "import numpy as np\n",
    "import matplotlib.pyplot as plt\n",
    "\n",
    "# Set the parameters\n",
    "n = 1000  # Number of trials\n",
    "p = 0.4  # Probability of success\n",
    "\n",
    "# Generate random sample from the binomial distribution\n",
    "sample = np.random.binomial(n, p, size=1000)\n",
    "\n",
    "# Plot the histogram\n",
    "plt.hist(sample, bins='auto', edgecolor='black')\n",
    "plt.xlabel('Number of Successes')\n",
    "plt.ylabel('Frequency')\n",
    "plt.title('Histogram of Binomial Distribution')\n",
    "plt.show()\n"
   ]
  },
  {
   "cell_type": "raw",
   "id": "a6bd3b74-2f7f-4f07-9813-fdc1a2a3e364",
   "metadata": {},
   "source": [
    "Q6. Write a Python function to calculate the cumulative distribution function of a Poisson distribution\n",
    "with given mean at a given point."
   ]
  },
  {
   "cell_type": "code",
   "execution_count": 5,
   "id": "bb82c358-b010-44fe-b2f1-293f2ab9560d",
   "metadata": {},
   "outputs": [
    {
     "name": "stdout",
     "output_type": "stream",
     "text": [
      "CDF at k = 3 is 0.7575761331330659\n"
     ]
    }
   ],
   "source": [
    "import math\n",
    "\n",
    "def poisson_cdf(k, mean):\n",
    "    cdf = 0.0\n",
    "    for i in range(k + 1):\n",
    "        cdf += (math.exp(-mean) * mean ** i) / math.factorial(i)\n",
    "    return cdf\n",
    "k = 3\n",
    "mean = 2.5\n",
    "\n",
    "cdf_value = poisson_cdf(k, mean)\n",
    "print(\"CDF at k =\", k, \"is\", cdf_value)\n"
   ]
  },
  {
   "cell_type": "raw",
   "id": "d3c19952-6f83-40f7-865a-5b061f0593a1",
   "metadata": {},
   "source": [
    "Q7. How Binomial distribution different from Poisson distribution?\n",
    "answer: The binomial distribution and the Poisson distribution are both discrete probability distributions, but they differ in their characteristics and the scenarios they are commonly used to model. Here are the key differences between the two:\n",
    "\n",
    "Definition and Assumptions:\n",
    "\n",
    "Binomial Distribution: The binomial distribution models the number of successes in a fixed number of independent Bernoulli trials, where each trial has the same probability of success. It assumes a fixed number of trials, independent outcomes, and a constant probability of success.\n",
    "Poisson Distribution: The Poisson distribution models the number of events occurring in a fixed interval of time or space when the events are rare and independent of each other. It assumes a fixed interval, rare events, and independence of events.\n",
    "Probability of Success:\n",
    "\n",
    "Binomial Distribution: The binomial distribution explicitly considers the probability of success in each trial, denoted by \"p\". The probability of failure, denoted by \"q\", is complementary to \"p\".\n",
    "Poisson Distribution: The Poisson distribution does not directly involve a probability of success or failure. Instead, it focuses on the average rate of events, denoted by \"λ\".\n",
    "Number of Trials or Events:\n",
    "\n",
    "Binomial Distribution: The binomial distribution is defined for a fixed number of trials, denoted by \"n\". The number of successes can range from 0 to \"n\".\n",
    "Poisson Distribution: The Poisson distribution does not have a fixed number of trials. It can represent an infinite number of events, and the number of events can range from 0 to infinity.\n",
    "Shape and Symmetry:\n",
    "\n",
    "Binomial Distribution: The binomial distribution is generally symmetric or slightly skewed, depending on the values of \"n\" and \"p\". Its shape becomes more symmetrical as the number of trials increases.\n",
    "Poisson Distribution: The Poisson distribution is typically skewed, with a longer tail on the right. As the average rate of events (\"λ\") increases, the distribution becomes more symmetric.\n",
    "Applications:\n",
    "\n",
    "Binomial Distribution: The binomial distribution is commonly used to model scenarios with a fixed number of trials and two possible outcomes, such as coin flips, election results, or the success/failure of experiments.\n",
    "Poisson Distribution: The Poisson distribution is often used to model scenarios involving rare events or the occurrence of events over a fixed interval, such as the number of customer arrivals in a specific time period, the number of accidents in a given day, or the number of emails received per hour."
   ]
  },
  {
   "cell_type": "raw",
   "id": "2985c5ba-ac9a-4c93-9a7d-78f174dea597",
   "metadata": {},
   "source": [
    "Q8. Generate a random sample of size 1000 from a Poisson distribution with mean 5 and calculate the\n",
    "sample mean and variance."
   ]
  },
  {
   "cell_type": "code",
   "execution_count": 6,
   "id": "b5cd9bf6-c27a-4003-8387-c437e88bc0ed",
   "metadata": {},
   "outputs": [
    {
     "name": "stdout",
     "output_type": "stream",
     "text": [
      "Sample Mean: 4.931\n",
      "Sample Variance: 5.436239\n"
     ]
    }
   ],
   "source": [
    "import numpy as np\n",
    "\n",
    "# Set the parameters\n",
    "size = 1000  # Sample size\n",
    "mean = 5  # Mean of the Poisson distribution\n",
    "\n",
    "# Generate random sample from the Poisson distribution\n",
    "sample = np.random.poisson(mean, size)\n",
    "\n",
    "# Calculate sample mean and variance\n",
    "sample_mean = np.mean(sample)\n",
    "sample_variance = np.var(sample)\n",
    "\n",
    "print(\"Sample Mean:\", sample_mean)\n",
    "print(\"Sample Variance:\", sample_variance)\n"
   ]
  },
  {
   "cell_type": "raw",
   "id": "dd709ab2-d4d4-492c-b6b2-1982dfa7f229",
   "metadata": {},
   "source": [
    "Q9. How mean and variance are related in Binomial distribution and Poisson distribution?\n",
    "answer: In both the binomial distribution and the Poisson distribution, the mean and variance are related. However, the specific relationship differs between the two distributions.\n",
    "\n",
    "Binomial Distribution:\n",
    "\n",
    "Mean: For a binomial distribution, the mean is given by the product of the number of trials (n) and the probability of success (p). It is denoted by μ = n * p.\n",
    "Variance: The variance of a binomial distribution is calculated as the product of the number of trials (n), the probability of success (p), and the probability of failure (q = 1 - p). It is denoted by σ^2 = n * p * q.\n",
    "Relationship: In the binomial distribution, the variance is directly proportional to the mean and depends on the product of the mean and the probability of failure. As the mean increases, the variance also increases.\n",
    "Poisson Distribution:\n",
    "\n",
    "Mean: In a Poisson distribution, the mean is equal to the parameter of the distribution, denoted by λ (lambda). It represents the average rate of events occurring in a fixed interval.\n",
    "Variance: The variance of a Poisson distribution is also equal to the parameter λ (lambda). It means that the variance is the same as the mean.\n",
    "Relationship: In the Poisson distribution, the mean and the variance are equal. This relationship is a unique characteristic of the Poisson distribution and is known as equidispersion. It implies that the spread of the distribution is the same as its center.\n",
    "To summarize, in the binomial distribution, the variance is directly proportional to the mean, while in the Poisson distribution, the variance is equal to the mean. In the Poisson distribution, the variance being equal to the mean indicates that the spread and center of the distribution are balanced."
   ]
  },
  {
   "cell_type": "raw",
   "id": "64ed026c-b223-4f0f-8f6c-1ff24d3496cc",
   "metadata": {},
   "source": [
    "Q10. In normal distribution with respect to mean position, where does the least frequent data appear?\n",
    "answer: In a normal distribution, the least frequent data points appear in the tails of the distribution, farthest away from the mean. The normal distribution is symmetric, with the mean positioned at the center. The tails of the distribution extend infinitely in both directions.\n",
    "\n",
    "In a standard normal distribution (mean = 0 and standard deviation = 1), approximately 68% of the data falls within one standard deviation of the mean, about 95% falls within two standard deviations, and approximately 99.7% falls within three standard deviations. Consequently, the remaining 0.3% of the data is distributed in the tails of the distribution, split between both sides.\n",
    "\n",
    "Since the normal distribution is symmetric, the data points in the left tail (to the left of the mean) and the data points in the right tail (to the right of the mean) have the same frequency. Therefore, the least frequent data points are found in both the extreme left and extreme right tails of the normal distribution. These data points represent the outliers or extreme values that are significantly different from the majority of the data clustered around the mean."
   ]
  }
 ],
 "metadata": {
  "kernelspec": {
   "display_name": "Python 3 (ipykernel)",
   "language": "python",
   "name": "python3"
  },
  "language_info": {
   "codemirror_mode": {
    "name": "ipython",
    "version": 3
   },
   "file_extension": ".py",
   "mimetype": "text/x-python",
   "name": "python",
   "nbconvert_exporter": "python",
   "pygments_lexer": "ipython3",
   "version": "3.10.8"
  }
 },
 "nbformat": 4,
 "nbformat_minor": 5
}
