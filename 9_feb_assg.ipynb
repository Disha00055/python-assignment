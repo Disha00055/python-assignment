{
 "cells": [
  {
   "cell_type": "markdown",
   "id": "30e09b05-9f64-4d3a-9469-4e28d05b47e5",
   "metadata": {},
   "source": [
    "Q1, Create a vehicle class with an init method having instance variables as name_of_vehicle, max_speed \n",
    "and average_of_vehicle."
   ]
  },
  {
   "cell_type": "code",
   "execution_count": 4,
   "id": "ad857211-1d68-4e4d-8fa8-6259065c7105",
   "metadata": {},
   "outputs": [
    {
     "name": "stdout",
     "output_type": "stream",
     "text": [
      "car: Max Speed = 200 km/h, Average Speed = 80 km/h\n",
      "Bike: Max Speed = 150 km/h, Average Speed = 50 km/h\n"
     ]
    }
   ],
   "source": [
    "class vehicle:\n",
    "    def __init__(self, name_of_vehicle, max_speed, average_speed):\n",
    "        self.name_of_vehicle = name_of_vehicle\n",
    "        self.max_speed = max_speed\n",
    "        self.average_speed = average_speed\n",
    "        \n",
    "car=vehicle(\"car\",200,80)\n",
    "bike=vehicle(\"Bike\",150,50)\n",
    "\n",
    "# Accessing instance variables\n",
    "print(f\"{car.name_of_vehicle}: Max Speed = {car.max_speed} km/h, Average Speed = {car.average_speed} km/h\")\n",
    "print(f\"{bike.name_of_vehicle}: Max Speed = {bike.max_speed} km/h, Average Speed = {bike.average_speed} km/h\")"
   ]
  },
  {
   "cell_type": "markdown",
   "id": "8555bb20-4568-42e8-923f-ffdf178ffda3",
   "metadata": {},
   "source": [
    "Q2.  Create a child class car from the vehicle class created in Que 1, which will inherit the vehicle class. \n",
    "Create a method named seating_capacity which takes capacity as an argument and returns the name of \n",
    "the vehicle and its seating capacity."
   ]
  },
  {
   "cell_type": "code",
   "execution_count": 5,
   "id": "19bfee75-9d38-4d8b-8f47-71967bfa30a2",
   "metadata": {},
   "outputs": [
    {
     "name": "stdout",
     "output_type": "stream",
     "text": [
      "sedan: Max_speed = 180 km/h , Average_speed = 60 km/h\n",
      "sedan - Seating Capacity: 5\n"
     ]
    }
   ],
   "source": [
    "class car(vehicle):\n",
    "    def seating_capacity(self,capacity):\n",
    "        return f\"{self.name_of_vehicle} - Seating Capacity: {capacity}\"\n",
    "car_obj= car(\"sedan\", 180, 60) \n",
    "\n",
    "print(f\"{car_obj.name_of_vehicle}: Max_speed = {car_obj.max_speed} km/h , Average_speed = {car_obj.average_speed} km/h\")\n",
    "\n",
    "print(car_obj.seating_capacity(5))"
   ]
  },
  {
   "cell_type": "markdown",
   "id": "dae103f1-551f-411d-8a6c-cfddfc3ce1dd",
   "metadata": {},
   "source": [
    "Q3. What is multiple inheritance? Write a python code to demonstrate multiple inheritance\n",
    "ans: Multiple inheritance is a feature in object-oriented programming languages where a class can inherit attributes and behaviors from more than one parent class. This means that a class can have multiple base classes, and it can inherit methods and attributes from all of them. However, multiple inheritance can sometimes lead to complexity and ambiguity, especially if there are conflicting method or attribute names in the parent classes.\n",
    "\n",
    "Here's an example in Python to demonstrate multiple inheritance:"
   ]
  },
  {
   "cell_type": "code",
   "execution_count": 6,
   "id": "bb94a78f-e201-491c-add7-28ffac45440d",
   "metadata": {},
   "outputs": [
    {
     "name": "stdout",
     "output_type": "stream",
     "text": [
      "This is a Sedan\n",
      "Engine started\n",
      "Model: ABC123\n"
     ]
    }
   ],
   "source": [
    "class Vehicle:\n",
    "    def __init__(self, name):\n",
    "        self.name = name\n",
    "\n",
    "    def display(self):\n",
    "        print(f\"This is a {self.name}\")\n",
    "\n",
    "class Engine:\n",
    "    def start(self):\n",
    "        print(\"Engine started\")\n",
    "\n",
    "class Car(Vehicle, Engine):\n",
    "    def __init__(self, name, model):\n",
    "        Vehicle.__init__(self, name)\n",
    "        Engine.__init__(self)\n",
    "        self.model = model\n",
    "\n",
    "    def display_model(self):\n",
    "        print(f\"Model: {self.model}\")\n",
    "\n",
    "# Creating an instance of the Car class\n",
    "my_car = Car(\"Sedan\", \"ABC123\")\n",
    "\n",
    "# Accessing methods from both Vehicle and Engine classes\n",
    "my_car.display()\n",
    "my_car.start()\n",
    "\n",
    "# Accessing method from the Car class\n",
    "my_car.display_model()"
   ]
  },
  {
   "cell_type": "markdown",
   "id": "c4cfbcc5-46bc-474f-b5f2-f26c725f54dd",
   "metadata": {},
   "source": [
    "Q4. What are getter and setter in python? Create a class and create a getter and a setter method in this class\n",
    "ans:In Python, getter and setter methods are used to control the access and modification of class attributes. They provide a way to encapsulate the attributes and add an additional layer of control and validation. Getter methods allow you to retrieve the value of an attribute, and setter methods allow you to set or modify the value of an attribute, often with additional checks or processing.\n",
    "\n",
    "Here's an example of a Python class with a getter and a setter method:"
   ]
  },
  {
   "cell_type": "code",
   "execution_count": 7,
   "id": "b507bbe5-395e-481c-b1f7-b9a9592a69e7",
   "metadata": {},
   "outputs": [
    {
     "name": "stdout",
     "output_type": "stream",
     "text": [
      "Name: Alice\n",
      "Age: 20\n",
      "Updated Name: Bob\n",
      "Updated Age: 25\n",
      "Name should be a string\n",
      "Age should be a positive integer\n"
     ]
    }
   ],
   "source": [
    "class Student:\n",
    "    def __init__(self, name, age):\n",
    "        self._name = name  # Using a single underscore to indicate a \"protected\" attribute\n",
    "        self._age = age    # Using a single underscore to indicate a \"protected\" attribute\n",
    "\n",
    "    # Getter method for name\n",
    "    def get_name(self):\n",
    "        return self._name\n",
    "\n",
    "    # Setter method for name\n",
    "    def set_name(self, new_name):\n",
    "        if isinstance(new_name, str):\n",
    "            self._name = new_name\n",
    "        else:\n",
    "            print(\"Name should be a string\")\n",
    "\n",
    "    # Getter method for age\n",
    "    def get_age(self):\n",
    "        return self._age\n",
    "\n",
    "    # Setter method for age\n",
    "    def set_age(self, new_age):\n",
    "        if isinstance(new_age, int) and new_age > 0:\n",
    "            self._age = new_age\n",
    "        else:\n",
    "            print(\"Age should be a positive integer\")\n",
    "\n",
    "# Creating an instance of the Student class\n",
    "student = Student(\"Alice\", 20)\n",
    "\n",
    "# Using the getter methods\n",
    "print(\"Name:\", student.get_name())\n",
    "print(\"Age:\", student.get_age())\n",
    "\n",
    "# Using the setter methods\n",
    "student.set_name(\"Bob\")\n",
    "student.set_age(25)\n",
    "\n",
    "# Using the getter methods after modification\n",
    "print(\"Updated Name:\", student.get_name())\n",
    "print(\"Updated Age:\", student.get_age())\n",
    "\n",
    "# Trying to set invalid values\n",
    "student.set_name(123)\n",
    "student.set_age(-5)\n"
   ]
  },
  {
   "cell_type": "markdown",
   "id": "c69606a6-d6b3-43b0-9d54-9aed0abfaa92",
   "metadata": {},
   "source": [
    "\n",
    "Q5.What is method overriding in python? Write a python code to demonstrate method overriding\n",
    "ans:Method overriding is a feature in object-oriented programming where a subclass provides a specific implementation for a method that is already defined in its parent class. This allows the subclass to customize the behavior of the inherited method while keeping the same method signature (name and parameters).\n",
    "\n",
    "Here's an example in Python to demonstrate method overriding:"
   ]
  },
  {
   "cell_type": "code",
   "execution_count": 8,
   "id": "a2c1d9a5-df58-4962-a8fa-8200bf33faf5",
   "metadata": {},
   "outputs": [
    {
     "name": "stdout",
     "output_type": "stream",
     "text": [
      "Animal speaks\n",
      "Dog barks\n",
      "Cat meows\n"
     ]
    }
   ],
   "source": [
    "class Animal:\n",
    "    def speak(self):\n",
    "        print(\"Animal speaks\")\n",
    "\n",
    "class Dog(Animal):\n",
    "    def speak(self):\n",
    "        print(\"Dog barks\")\n",
    "\n",
    "class Cat(Animal):\n",
    "    def speak(self):\n",
    "        print(\"Cat meows\")\n",
    "\n",
    "# Creating instances of the classes\n",
    "animal = Animal()\n",
    "dog = Dog()\n",
    "cat = Cat()\n",
    "\n",
    "# Calling the speak method on instances\n",
    "animal.speak()  # Output: \"Animal speaks\"\n",
    "dog.speak()     # Output: \"Dog barks\"\n",
    "cat.speak()     # Output: \"Cat meows\"\n"
   ]
  },
  {
   "cell_type": "code",
   "execution_count": null,
   "id": "2e363511-86b3-4478-9901-f975eb2f035e",
   "metadata": {},
   "outputs": [],
   "source": []
  }
 ],
 "metadata": {
  "kernelspec": {
   "display_name": "Python 3 (ipykernel)",
   "language": "python",
   "name": "python3"
  },
  "language_info": {
   "codemirror_mode": {
    "name": "ipython",
    "version": 3
   },
   "file_extension": ".py",
   "mimetype": "text/x-python",
   "name": "python",
   "nbconvert_exporter": "python",
   "pygments_lexer": "ipython3",
   "version": "3.10.8"
  }
 },
 "nbformat": 4,
 "nbformat_minor": 5
}
