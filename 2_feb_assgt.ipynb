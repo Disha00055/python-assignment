{
 "cells": [
  {
   "cell_type": "code",
   "execution_count": 2,
   "id": "02507fb9-3e61-4bf1-a5ba-403335c315c4",
   "metadata": {},
   "outputs": [],
   "source": [
    "#Q1. Explain with an example each when to use a for loop and a while loop.\n",
    "\n",
    "#for loop is used when number of iterations aree not known for loop never checks the condition first\n"
   ]
  },
  {
   "cell_type": "code",
   "execution_count": 4,
   "id": "0359c23b-8324-4f28-a81d-26a8a20ff865",
   "metadata": {},
   "outputs": [
    {
     "name": "stdout",
     "output_type": "stream",
     "text": [
      "nisha will be the sucessful person of their life\n",
      "disha will be the sucessful person of their life\n",
      "kajal will be the sucessful person of their life\n",
      "khushi will be the sucessful person of their life\n"
     ]
    }
   ],
   "source": [
    "l1=[\"nisha\",\"disha\",\"kajal\",\"khushi\"]\n",
    "for i in l1:\n",
    "    print(i,\"will be the sucessful person of their life\")"
   ]
  },
  {
   "cell_type": "code",
   "execution_count": 5,
   "id": "db450fd4-1b6d-4946-8cbe-1b1f7798efa7",
   "metadata": {},
   "outputs": [],
   "source": [
    "#while is loop in which nmber of iterations must be known and its checks the condition first if the conditon \n",
    "#satisfy then only it allows to enter into the loops"
   ]
  },
  {
   "cell_type": "code",
   "execution_count": 1,
   "id": "be3f6090-7c2d-4088-a2ae-cd62ed0d755f",
   "metadata": {},
   "outputs": [
    {
     "name": "stdout",
     "output_type": "stream",
     "text": [
      "1\n",
      "2\n",
      "3\n",
      "4\n",
      "5\n",
      "6\n",
      "7\n",
      "8\n",
      "9\n",
      "10\n"
     ]
    }
   ],
   "source": [
    "a=1\n",
    "while a<=10:\n",
    "    print(a)\n",
    "    a=a+1"
   ]
  },
  {
   "cell_type": "code",
   "execution_count": null,
   "id": "f866b3fd-68da-4915-ac4b-07397bc3c041",
   "metadata": {},
   "outputs": [],
   "source": [
    "#Q2. Write a python program to print the sum and product of the first 10 natural numbers using for\n",
    "#and while loop."
   ]
  },
  {
   "cell_type": "code",
   "execution_count": 14,
   "id": "f3106fe5-dca9-4b21-b8a4-0900fd2d18f1",
   "metadata": {},
   "outputs": [
    {
     "name": "stdin",
     "output_type": "stream",
     "text": [
      "Enter the Natural Number:  9\n"
     ]
    },
    {
     "name": "stdout",
     "output_type": "stream",
     "text": [
      "1 = 1\n",
      "1 + 2 = 3\n",
      "1 + 2 + 3 = 6\n",
      "1 + 2 + 3 + 4 = 10\n",
      "1 + 2 + 3 + 4 + 5 = 15\n",
      "1 + 2 + 3 + 4 + 5 + 6 = 21\n",
      "1 + 2 + 3 + 4 + 5 + 6 + 7 = 28\n",
      "1 + 2 + 3 + 4 + 5 + 6 + 7 + 8 = 36\n",
      "1 + 2 + 3 + 4 + 5 + 6 + 7 + 8 + 9 = 45\n",
      "\n"
     ]
    }
   ],
   "source": [
    "# Inputing Natural Number\n",
    "number = int(input(\"Enter the Natural Number: \"))\n",
    "\n",
    "# j ranges from 1 to n\n",
    "for j in range(1, number+1):\n",
    "\n",
    "\t# Initializing List\n",
    "\ta = []\n",
    "\n",
    "\t# i loop ranges from 1 to j\n",
    "\tfor i in range(1, j+1):\n",
    "\t\tprint(i, sep=\" \", end=\" \")\n",
    "\t\tif(i < j):\n",
    "\t\t\tprint(\"+\", sep=\" \", end=\" \")\n",
    "\t\ta.append(i)\n",
    "\tprint(\"=\", sum(a))\n",
    "\n",
    "print()\n"
   ]
  },
  {
   "cell_type": "code",
   "execution_count": 15,
   "id": "b31b2917-d124-4b80-9c4f-065c1b33eb3a",
   "metadata": {},
   "outputs": [],
   "source": [
    "#Q3 Create a python program to compute the electricity bill for a household.\n",
    "#The per-unit charges in rupees are as follows: For the first 100 units, the user will be charged Rs. 4.5per \n",
    "#unit, for the next 100 units, the user will be charged Rs. 6 per unit, and for the next 100 units, the user will \n",
    "#be charged Rs. 10 per unit, After 300 units and above the user will be charged Rs. 20 per unit.\n",
    "#You are required to take the units of electricity consumed in a month from the user as input.\n",
    "#Your program must pass this test case: when the unit of electricity consumed by the user in a month is \n",
    "#310, the total electricity bill should be 2250"
   ]
  },
  {
   "cell_type": "code",
   "execution_count": 2,
   "id": "5017d116-a756-4f9a-8ce2-54de8220630a",
   "metadata": {},
   "outputs": [
    {
     "name": "stdin",
     "output_type": "stream",
     "text": [
      "enter the electricity units:  300\n"
     ]
    },
    {
     "name": "stdout",
     "output_type": "stream",
     "text": [
      "total electrics bill is : 2050.0\n"
     ]
    }
   ],
   "source": [
    "units=int(input(\"enter the electricity units: \"))\n",
    "if units<=100:\n",
    "    total_bill =units*4.5\n",
    "elif units <= 200:\n",
    "    total_bill =100*4.5+(units-100)*6\n",
    "elif units <= 300:\n",
    "    total_bill =100*4.5+100*6+(units-200)*10\n",
    "else:\n",
    "    total_bill=100*4.5+100*6+100*10+(units-300)*20\n",
    "\n",
    "    \n",
    "    \n",
    "print(\"total electrics bill is :\", total_bill )"
   ]
  },
  {
   "cell_type": "code",
   "execution_count": null,
   "id": "146785a8-5ab7-4f81-9bf7-8c509e7d8ac1",
   "metadata": {},
   "outputs": [],
   "source": [
    "# Create a list of numbers from 1 to 100. Use for loop and while loop to calculate the cube of each \n",
    "#number and if the cube of that number is divisible by 4 or 5 then append that number in a list and print \n",
    "#that list."
   ]
  },
  {
   "cell_type": "code",
   "execution_count": 1,
   "id": "41059443-2d35-4b0f-b504-f5f378d06d6a",
   "metadata": {},
   "outputs": [
    {
     "name": "stdout",
     "output_type": "stream",
     "text": [
      "the number whose cube is divisible by 4 or 5\n",
      "[2, 4, 5, 6, 8, 10, 12, 14, 15, 16, 18, 20, 22, 24, 25, 26, 28, 30, 32, 34, 35, 36, 38, 40, 42, 44, 45, 46, 48, 50, 52, 54, 55, 56, 58, 60, 62, 64, 65, 66, 68, 70, 72, 74, 75, 76, 78, 80, 82, 84, 85, 86, 88, 90, 92, 94, 95, 96, 98, 100]\n"
     ]
    }
   ],
   "source": [
    "cube_list=[]\n",
    "for i in range(1,101):\n",
    "    cube=i**3\n",
    "    if cube%4==0 or cube%5==0:\n",
    "        cube_list.append(i)\n",
    "    \n",
    "print(\"the number whose cube is divisible by 4 or 5\")\n",
    "print(cube_list)"
   ]
  },
  {
   "cell_type": "code",
   "execution_count": null,
   "id": "ae0b989e-7635-4504-9ad7-9bdf3213fc1f",
   "metadata": {},
   "outputs": [],
   "source": [
    "cube_list=[]\n",
    "num=1\n",
    "while num<=100:\n",
    "    cube=num**3\n",
    "    if cube%4==0 or cube%5==0:\n",
    "        cube_list.append(num)\n",
    "print(\"the number whose cube is \")\n",
    "print(cube_list)\n",
    "    "
   ]
  },
  {
   "cell_type": "code",
   "execution_count": null,
   "id": "6ee5fff2-eae6-40bd-a84e-9d2a0df9ab5f",
   "metadata": {},
   "outputs": [],
   "source": [
    "#Q5.  Write a program to filter count vowels in the below-given string.\n",
    "#string = \"I want to become a data scientist\""
   ]
  },
  {
   "cell_type": "code",
   "execution_count": 1,
   "id": "1a4e361f-fdb8-4d83-b114-691ecb8ab481",
   "metadata": {},
   "outputs": [
    {
     "name": "stdout",
     "output_type": "stream",
     "text": [
      "the number of strings: 11\n"
     ]
    }
   ],
   "source": [
    "string=\"I want to become Data Scientist\"\n",
    "count=0\n",
    "vowel='aeiou'\n",
    "for char in string:\n",
    "    if char.lower() in vowel:\n",
    "        count+=1\n",
    "print(\"the number of strings:\", count )"
   ]
  },
  {
   "cell_type": "code",
   "execution_count": null,
   "id": "a457938a-e1d5-4107-9f6d-6f09ff41753a",
   "metadata": {},
   "outputs": [],
   "source": []
  }
 ],
 "metadata": {
  "kernelspec": {
   "display_name": "Python 3 (ipykernel)",
   "language": "python",
   "name": "python3"
  },
  "language_info": {
   "codemirror_mode": {
    "name": "ipython",
    "version": 3
   },
   "file_extension": ".py",
   "mimetype": "text/x-python",
   "name": "python",
   "nbconvert_exporter": "python",
   "pygments_lexer": "ipython3",
   "version": "3.10.8"
  },
  "toc-autonumbering": true,
  "toc-showcode": true
 },
 "nbformat": 4,
 "nbformat_minor": 5
}
