{
 "cells": [
  {
   "cell_type": "code",
   "execution_count": 1,
   "id": "8fc3c37a-0032-4bfe-b8b6-b1f031e82da7",
   "metadata": {},
   "outputs": [],
   "source": [
    "#Q1. Explain Class and Object with respect to Object-Oriented Programming. Give a suitable example."
   ]
  },
  {
   "cell_type": "code",
   "execution_count": null,
   "id": "34ad645f-7ad1-4c19-bb19-1aa42939b7d8",
   "metadata": {},
   "outputs": [],
   "source": [
    "In object-oriented programming (OOP), a class is a blueprint or template for creating objects, which are instances of that class. A class defines \n",
    "the properties (data) and behaviors (methods) that objects of that class can have.An object, on the other hand, is an instance of a class. It is\n",
    "a specific entity that has its own unique state and behavior, based on the properties and methods defined in the class.For example, let's say we\n",
    "want to create a class called \"Car\" that defines the properties and behaviors of a car. We could define the class like this:"
   ]
  },
  {
   "cell_type": "code",
   "execution_count": 2,
   "id": "2dc5e66e-bd76-41df-8345-a2d7218fdc29",
   "metadata": {},
   "outputs": [],
   "source": [
    "class Car:\n",
    "    def __init__(self, make, model, year, color):\n",
    "        self.make = make\n",
    "        self.model = model\n",
    "        self.year = year\n",
    "        self.color = color\n",
    "        self.speed = 0\n",
    "        \n",
    "    def accelerate(self):\n",
    "        self.speed += 10\n",
    "        \n",
    "    def brake(self):\n",
    "        self.speed -= 10\n",
    "        if self.speed < 0:\n",
    "            self.speed = 0\n"
   ]
  },
  {
   "cell_type": "code",
   "execution_count": 3,
   "id": "e068e226-3c0f-45d6-9a0e-ca6b05bbe9d2",
   "metadata": {},
   "outputs": [],
   "source": [
    "my_car = Car(\"Honda\", \"Civic\", 2022, \"Blue\")\n",
    "your_car = Car(\"Toyota\", \"Corolla\", 2023, \"Red\")\n"
   ]
  },
  {
   "cell_type": "code",
   "execution_count": 9,
   "id": "9af7e9c3-fb51-42a4-a738-fa6314fe3b62",
   "metadata": {},
   "outputs": [],
   "source": [
    "my_car.accelerate()\n",
    "your_car.brake()\n"
   ]
  },
  {
   "cell_type": "code",
   "execution_count": 10,
   "id": "4f646b2d-2e54-4653-ba03-6115300ff0d4",
   "metadata": {},
   "outputs": [],
   "source": [
    "#Q2. Name the four pillars of OOPs."
   ]
  },
  {
   "cell_type": "code",
   "execution_count": null,
   "id": "65836861-84fb-431f-9d40-1d4a87868cfa",
   "metadata": {},
   "outputs": [],
   "source": [
    "encapsulation\n",
    "abstraction\n",
    "inheritance \n",
    "polymorphism\n",
    "Encapsulation: This refers to the practice of hiding the internal implementation details of an object from the outside world, and only exposing a \n",
    "public interface through which other objects can interact with it. Encapsulation allows for better control over the behavior and state of an object,\n",
    "and can help to prevent unintended modifications or access.\n",
    "\n",
    "Inheritance: This refers to the ability of objects to inherit properties and methods from a parent class. Inheritance allows for the creation of\n",
    "hierarchical relationships between classes, and can help to reduce code duplication and promote code reusability.\n",
    "\n",
    "Polymorphism: This refers to the ability of objects to take on different forms or behaviors depending on the context in which they are used.Polymorphism\n",
    "allows for more flexible and dynamic code, and can help to simplify code by allowing multiple objects to be treated as if they are of the same type.\n",
    "\n",
    "Abstraction: This refers to the practice of defining objects at a high level of generality, and only specifying the necessary details for their\n",
    "behavior and implementation. Abstraction allows for the creation of more modular and reusable code, and can help to simplify complex systems by\n",
    "breaking them down into smaller, more manageable parts."
   ]
  },
  {
   "cell_type": "code",
   "execution_count": 11,
   "id": "964b79f6-2b2d-4a99-88d8-8c02646a7e0b",
   "metadata": {},
   "outputs": [],
   "source": [
    "#Q3. Explain why the __init__() function is used. Give a suitable example."
   ]
  },
  {
   "cell_type": "code",
   "execution_count": null,
   "id": "6d979380-8231-4dad-acd0-7841dd7dc744",
   "metadata": {},
   "outputs": [],
   "source": [
    "answer:In object-oriented programming (OOP), the __init__() function is a special method that is used to initialize the properties of an object \n",
    "when it is created. The __init__() method is automatically called when an object is created, and it allows us to set the initial values of the \n",
    "object's properties.\n",
    "The __init__() method is also known as a constructor, because it is responsible for constructing (i.e. initializing) the object. Without an\n",
    "__init__() method, we would have to manually set the values of an object's properties after it was created, which would be inefficient and \n",
    "error-prone.\n",
    "\n",
    "For example, let's say we have a class called Person that represents a person with a name and age. We can define the class like this:\n",
    "\n",
    "class Person:\n",
    "    def __init__(self, name, age):\n",
    "        self.name = name\n",
    "        self.age = age\n",
    "In this example, the __init__() method takes two parameters (name and age), and initializes the corresponding properties of the object \n",
    "using the self keyword. The self keyword refers to the current instance of the object, and allows us to access and modify its properties.\n",
    "\n",
    "We can then create objects of the Person class by calling the constructor and passing in values for the name and age properties:\n",
    "\n",
    "person1 = Person(\"John\", 30)\n",
    "person2 = Person(\"Jane\", 25)\n",
    "\n",
    "Now we have two separate objects, person1 and person2, that each have their own unique state based on the values passed in at creation.\n",
    "The __init__() method allows us to set the initial values of these properties automatically, without having to do it manually after the \n",
    "object is created.\n"
   ]
  },
  {
   "cell_type": "code",
   "execution_count": null,
   "id": "b6c6072e-0599-45e1-a2e2-8ec00461960e",
   "metadata": {},
   "outputs": [],
   "source": [
    "Q4. Why self is used in OOPs?"
   ]
  },
  {
   "cell_type": "code",
   "execution_count": null,
   "id": "884cca7a-94cb-4b28-b80f-76a203b51480",
   "metadata": {},
   "outputs": [],
   "source": [
    "In object-oriented programming (OOP), self is a special keyword that refers to the instance of the class that a method is being called on.\n",
    "When we create an object of a class, we are creating an instance of that class, and self refers to that specific instance.\n",
    "self is used to access the properties and methods of the instance from within the methods of the class. For example, when we define a method \n",
    "in a class, we use self to refer to the current instance, like this:\n",
    "\n",
    "\n",
    "class Person:\n",
    "    def __init__(self, name, age):\n",
    "        self.name = name\n",
    "        self.age = age\n",
    "\n",
    "    def say_hello(self):\n",
    "        print(\"Hello, my name is\", self.name, \"and I am\", self.age, \"years old.\")\n",
    "        \n",
    "In this example, the say_hello() method uses self to access the name and age properties of the instance, and prints a message that includes\n",
    "those values.\n",
    "\n",
    "When we call the say_hello() method on an instance of the Person class, like this:\n",
    "\n",
    "\n",
    "person = Person(\"John\", 30)\n",
    "person.say_hello()\n",
    "the self keyword is automatically set to the instance person. This allows the say_hello() method to access the name and age properties of that \n",
    "specific instance, and print a personalized message.\n",
    "\n",
    "In summary, self is used in OOP to refer to the current instance of a class, and to access its properties and methods from within the methods \n",
    "of the class. It allows us to create classes that can be instantiated into unique and separate objects, each with their own state and behavior.\n",
    "\n",
    "\n",
    "\n",
    "\n"
   ]
  },
  {
   "cell_type": "code",
   "execution_count": null,
   "id": "ca8e16e2-db3c-4743-bc82-7d338b1b71b9",
   "metadata": {},
   "outputs": [],
   "source": [
    "Q5. What is inheritance? Give an example for each type of inheritance."
   ]
  },
  {
   "cell_type": "code",
   "execution_count": null,
   "id": "296f82aa-26a1-4122-86dd-cbde5809937c",
   "metadata": {},
   "outputs": [],
   "source": [
    "In object-oriented programming (OOP), inheritance is the mechanism by which a new class is created by inheriting the properties and\n",
    "methods of an existing class. The existing class is known as the parent class, and the new class is known as the child class. Inheritance\n",
    "allows the child class to reuse code from the parent class, and to extend or modify the behavior of the parent class.\n",
    "\n",
    "There are several types of inheritance in OOP:\n",
    "\n",
    "Single inheritance: In single inheritance, a child class inherits properties and methods from a single parent class. For example:\n",
    "\n",
    "class Animal:\n",
    "    def make_sound(self):\n",
    "        print(\"Some sound\")\n",
    "\n",
    "class Dog(Animal):\n",
    "    def make_sound(self):\n",
    "        print(\"Bark bark!\")\n",
    "        \n",
    "In this example, the Dog class is a child class of the Animal class, and it inherits the make_sound() method from the Animal class. \n",
    "The Dog class overrides the make_sound() method to make a different sound.\n",
    "\n",
    "Multiple inheritance: In multiple inheritance, a child class inherits properties and methods from multiple parent classes. For example:\n",
    "\n",
    "\n",
    "class Vehicle:\n",
    "    def start_engine(self):\n",
    "        print(\"Engine started\")\n",
    "\n",
    "class Radio:\n",
    "    def play_music(self):\n",
    "        print(\"Music playing\")\n",
    "\n",
    "class Car(Vehicle, Radio):\n",
    "    pass\n",
    "In this example, the Car class is a child class of both the Vehicle class and the Radio class, and it inherits the start_engine() method from Vehicle and the play_music() method from Radio.\n",
    "\n",
    "Multilevel inheritance: In multilevel inheritance, a child class inherits properties and methods from a parent class, which itself inherits from another parent class. For example:\n",
    "\n",
    "class Animal:\n",
    "    def make_sound(self):\n",
    "        print(\"Some sound\")\n",
    "\n",
    "class Mammal(Animal):\n",
    "    pass\n",
    "\n",
    "class Dog(Mammal):\n",
    "    def make_sound(self):\n",
    "        print(\"Bark bark!\")\n",
    "        \n",
    "In this example, the Dog class is a child class of the Mammal class, which is itself a child class of the Animal class. The Dog class \n",
    "inherits the make_sound() method from the Animal class via the Mammal class.\n",
    "\n",
    "Hierarchical inheritance: In hierarchical inheritance, multiple child classes inherit from a single parent class. For example:\n",
    "\n",
    "class Vehicle:\n",
    "    def start_engine(self):\n",
    "        print(\"Engine started\")\n",
    "\n",
    "class Car(Vehicle):\n",
    "    pass\n",
    "\n",
    "class Truck(Vehicle):\n",
    "    pass\n",
    "\n",
    "In this example, both the Car class and the Truck class are child classes of the Vehicle class, and they both inherit the start_engine()\n",
    "method from the Vehicle class.\n",
    "\n",
    "\n",
    "\n",
    "\n"
   ]
  }
 ],
 "metadata": {
  "kernelspec": {
   "display_name": "Python 3 (ipykernel)",
   "language": "python",
   "name": "python3"
  },
  "language_info": {
   "codemirror_mode": {
    "name": "ipython",
    "version": 3
   },
   "file_extension": ".py",
   "mimetype": "text/x-python",
   "name": "python",
   "nbconvert_exporter": "python",
   "pygments_lexer": "ipython3",
   "version": "3.10.8"
  }
 },
 "nbformat": 4,
 "nbformat_minor": 5
}
