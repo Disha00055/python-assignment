{
 "cells": [
  {
   "cell_type": "markdown",
   "id": "0913faca-4445-4fab-8b02-c18d57048184",
   "metadata": {},
   "source": [
    "Q1. Create a Pandas Series that contains the following data: 4, 8, 15, 16, 23, and 42. Then, print the series."
   ]
  },
  {
   "cell_type": "code",
   "execution_count": 1,
   "id": "e84c94d9-ffb1-43c3-9d57-658c677fc2c9",
   "metadata": {},
   "outputs": [
    {
     "name": "stdout",
     "output_type": "stream",
     "text": [
      "0     4\n",
      "1     8\n",
      "2    15\n",
      "3    16\n",
      "4    23\n",
      "5    42\n",
      "dtype: int64\n"
     ]
    }
   ],
   "source": [
    "import pandas as pd\n",
    "data=[4,8,15,16,23,42]\n",
    "series=pd.Series(data)\n",
    "print(series)"
   ]
  },
  {
   "cell_type": "markdown",
   "id": "b0a61d3c-804b-4206-a5b1-cb43509627e3",
   "metadata": {},
   "source": [
    "Q2. Create a variable of list type containing 10 elements in it, and apply pandas.Series function on the\n",
    "variable print it."
   ]
  },
  {
   "cell_type": "code",
   "execution_count": 3,
   "id": "9f06af7c-fc03-4a34-bff9-c931a6fe7b01",
   "metadata": {},
   "outputs": [
    {
     "name": "stdout",
     "output_type": "stream",
     "text": [
      "0     10\n",
      "1     20\n",
      "2     30\n",
      "3     40\n",
      "4     50\n",
      "5     60\n",
      "6     70\n",
      "7     80\n",
      "8     90\n",
      "9    100\n",
      "dtype: int64\n"
     ]
    }
   ],
   "source": [
    "import pandas as pd\n",
    "my_list=[10,20,30,40,50,60,70,80,90,100]\n",
    "series=pd.Series(my_list)\n",
    "print(series)"
   ]
  },
  {
   "cell_type": "markdown",
   "id": "14e6bb31-6aff-4268-9408-46ea28684af2",
   "metadata": {},
   "source": [
    "Q3. Create a Pandas DataFrame that contains the following data:\n",
    "Name\n",
    "Alice\n",
    "Bob\n",
    "Claire\n",
    "\n",
    "Age\n",
    "25\n",
    "30\n",
    "27\n",
    "\n",
    "Gender\n",
    "Female\n",
    "Male\n",
    "Female\n",
    "\n",
    "Then, print the DataFrame."
   ]
  },
  {
   "cell_type": "code",
   "execution_count": 8,
   "id": "4e47dbbc-e9cb-465f-9750-0946abd41794",
   "metadata": {},
   "outputs": [
    {
     "name": "stdout",
     "output_type": "stream",
     "text": [
      "     name  Age  Gender\n",
      "0   Alice   25  Female\n",
      "1     Bob   30    male\n",
      "2  claire   27  Female\n"
     ]
    }
   ],
   "source": [
    "import pandas as pd\n",
    "data={\n",
    "    'name':['Alice','Bob','claire'],\n",
    "    'Age':[25,30,27],\n",
    "    'Gender':['Female','male','Female']\n",
    "}\n",
    "\n",
    "df=pd.DataFrame(data)\n",
    "print(df)"
   ]
  },
  {
   "cell_type": "markdown",
   "id": "3d0b7bb1-2542-43cd-8856-fd550e165966",
   "metadata": {},
   "source": [
    "Q4. What is ‘DataFrame’ in pandas and how is it different from pandas.series? Explain with an example.\n",
    "answer:\n",
    "In Pandas, a **DataFrame** is a two-dimensional, size-mutable, and potentially heterogeneous tabular data structure with labeled axes (rows and columns). It can be thought of as a collection of Pandas Series objects where each Series represents a column, and the columns are aligned by a common index. DataFrames are one of the most commonly used data structures in Pandas and are suitable for handling structured data, such as data in CSV files, Excel spreadsheets, or SQL tables.\n",
    "\n",
    "A **Pandas Series**, on the other hand, is a one-dimensional labeled array capable of holding data of any type. It is like a column in a DataFrame. A Series has a one-dimensional structure with an associated index, which can be thought of as row labels. \n",
    "\n",
    "Here's an example to illustrate the difference between a DataFrame and a Series:\n",
    "\n",
    "```python\n",
    "import pandas as pd\n",
    "\n",
    "# Creating a Pandas Series\n",
    "ser = pd.Series([1, 2, 3, 4], name='MySeries')\n",
    "print(\"Pandas Series:\")\n",
    "print(ser)\n",
    "```\n",
    "\n",
    "Output:\n",
    "\n",
    "```\n",
    "Pandas Series:\n",
    "0    1\n",
    "1    2\n",
    "2    3\n",
    "3    4\n",
    "Name: MySeries, dtype: int64\n",
    "```\n",
    "\n",
    "In this example, we created a Pandas Series named 'MySeries' with values 1, 2, 3, and 4. It's a one-dimensional structure with an index (0, 1, 2, 3).\n",
    "\n",
    "Now, let's create a DataFrame:\n",
    "\n",
    "```python\n",
    "# Creating a Pandas DataFrame\n",
    "data = {'Column1': [1, 2, 3, 4],\n",
    "        'Column2': ['A', 'B', 'C', 'D']}\n",
    "df = pd.DataFrame(data)\n",
    "print(\"\\nPandas DataFrame:\")\n",
    "print(df)\n",
    "```\n",
    "\n",
    "Output:\n",
    "\n",
    "```\n",
    "Pandas DataFrame:\n",
    "   Column1 Column2\n",
    "0        1       A\n",
    "1        2       B\n",
    "2        3       C\n",
    "3        4       D\n",
    "```\n",
    "\n",
    "In this example, we created a Pandas DataFrame with two columns, 'Column1' and 'Column2'. It's a two-dimensional structure where 'Column1' is a Pandas Series containing numeric data, and 'Column2' is a Pandas Series containing string data. The DataFrame has an index (0, 1, 2, 3) for rows, and each column has its own label.\n",
    "\n",
    "In summary, a Pandas Series is a one-dimensional data structure, whereas a Pandas DataFrame is a two-dimensional data structure that can hold multiple columns, making it suitable for handling structured data with multiple attributes."
   ]
  },
  {
   "cell_type": "markdown",
   "id": "523e184a-6452-40b9-9bb4-9cc19b07e3bf",
   "metadata": {},
   "source": [
    "Q5. What are some common functions you can use to manipulate data in a Pandas DataFrame? Can\n",
    "you give an example of when you might use one of these functions?\n",
    "\n",
    "Pandas provides a wide range of functions to manipulate data in a DataFrame. Some common functions and methods include:\n",
    "\n",
    "1. **Selection and Filtering**:\n",
    "   - `df['column_name']` or `df.column_name`: Select a single column.\n",
    "   - `df[['col1', 'col2']]`: Select multiple columns.\n",
    "   - `df.loc[row_index]` or `df.iloc[row_position]`: Select rows by label or integer position, respectively.\n",
    "   - `df[df['column'] > 5]`: Filter rows based on a condition.\n",
    "\n",
    "2. **Sorting**:\n",
    "   - `df.sort_values(by='column_name')`: Sort DataFrame by column.\n",
    "   - `df.sort_index()`: Sort by index.\n",
    "   \n",
    "3. **Aggregation and Summary Statistics**:\n",
    "   - `df.groupby('column_name').mean()`: Compute mean by groups.\n",
    "   - `df['column_name'].sum()`: Calculate the sum of a column.\n",
    "   - `df.describe()`: Get summary statistics.\n",
    "\n",
    "4. **Data Cleaning**:\n",
    "   - `df.dropna()`: Remove rows with missing values.\n",
    "   - `df.fillna(value)`: Fill missing values with a specified value.\n",
    "   - `df.drop(columns='column_name')`: Drop a column.\n",
    "\n",
    "5. **Merging and Joining Data**:\n",
    "   - `pd.concat([df1, df2])`: Concatenate DataFrames.\n",
    "   - `pd.merge(df1, df2, on='key_column')`: Merge DataFrames based on a common column.\n",
    "\n",
    "6. **Data Transformation**:\n",
    "   - `df.apply(function)`: Apply a function to each element or row.\n",
    "   - `df.pivot(index='row_column', columns='column_column', values='value_column')`: Pivot the DataFrame.\n",
    "   - `df.rename(columns={'old_name': 'new_name'})`: Rename columns.\n",
    "\n",
    "7. **Data Visualization**:\n",
    "   - `df.plot(kind='plot_type')`: Create various plots, such as line, bar, or scatter plots.\n",
    "\n",
    "8. **Data Export/Import**:\n",
    "   - `df.to_csv('filename.csv')`: Export DataFrame to a CSV file.\n",
    "   - `pd.read_csv('filename.csv')`: Import data from a CSV file.\n",
    "\n",
    "Here's an example of when you might use one of these functions. Let's say you have a DataFrame containing sales data, and you want to calculate the total sales for each product category:\n",
    "\n",
    "```python\n",
    "import pandas as pd\n",
    "\n",
    "data = {\n",
    "    'Product': ['A', 'B', 'A', 'C', 'B', 'C'],\n",
    "    'Sales': [100, 200, 150, 120, 250, 80]\n",
    "}\n",
    "\n",
    "df = pd.DataFrame(data)\n",
    "\n",
    "# Group by 'Product' and calculate the total sales for each category\n",
    "total_sales_by_category = df.groupby('Product')['Sales'].sum()\n",
    "\n",
    "print(total_sales_by_category)\n",
    "```\n",
    "\n",
    "Output:\n",
    "\n",
    "```\n",
    "Product\n",
    "A    250\n",
    "B    450\n",
    "C    200\n",
    "Name: Sales, dtype: int64\n",
    "```\n",
    "\n",
    "In this example, we used the `groupby()` function to group the data by the 'Product' column and then applied the `sum()` function to calculate the total sales for each product category. This demonstrates the use of aggregation and grouping functions in Pandas to manipulate and analyze data in a DataFrame."
   ]
  },
  {
   "cell_type": "markdown",
   "id": "4e2298c0-b671-40a1-a842-bf99716a8b9c",
   "metadata": {},
   "source": [
    "Q6. Which of the following is mutable in nature Series, DataFrame, Panel?\n",
    "\n",
    "**Series** and **DataFrame** in Pandas are mutable in nature, meaning you can change their values, add or remove columns or rows, and modify their contents after creation. \n",
    "\n",
    "However, please note that the concept of **Panel** was deprecated in Pandas starting from version 0.25.0, and it's no longer a recommended data structure for handling multi-dimensional data. Instead, Pandas encourages the use of MultiIndex DataFrames to represent multi-dimensional data, and DataFrames themselves can be considered as a two-dimensional generalization of Series.\n",
    "\n",
    "So, if you are working with Pandas in versions 0.25.0 or later, you won't typically use the Panel data structure, and it's not relevant to most data manipulation tasks. Instead, you would work with Series and DataFrames, both of which are mutable."
   ]
  },
  {
   "cell_type": "markdown",
   "id": "bbe4c7fe-c0cd-41bb-97e4-0c10640a86c8",
   "metadata": {},
   "source": [
    "Q7. Create a DataFrame using multiple Series. Explain with an example.\n",
    "\n",
    "You can create a Pandas DataFrame using multiple Series by passing those Series as a dictionary to the `pd.DataFrame()` constructor. Each Series will become a column in the resulting DataFrame. Here's an example to illustrate this:\n",
    "\n",
    "```python\n",
    "import pandas as pd\n",
    "\n",
    "# Creating multiple Series\n",
    "name_series = pd.Series(['Alice', 'Bob', 'Claire'])\n",
    "age_series = pd.Series([25, 30, 27])\n",
    "gender_series = pd.Series(['Female', 'Male', 'Female'])\n",
    "\n",
    "# Creating a DataFrame using the Series\n",
    "data = {\n",
    "    'Name': name_series,\n",
    "    'Age': age_series,\n",
    "    'Gender': gender_series\n",
    "}\n",
    "\n",
    "df = pd.DataFrame(data)\n",
    "\n",
    "# Print the resulting DataFrame\n",
    "print(df)\n",
    "```\n",
    "\n",
    "Output:\n",
    "\n",
    "```\n",
    "     Name  Age  Gender\n",
    "0   Alice   25  Female\n",
    "1     Bob   30    Male\n",
    "2  Claire   27  Female\n",
    "```\n",
    "\n",
    "In this example, we first create three Pandas Series: `name_series`, `age_series`, and `gender_series`. Each Series represents a different attribute of individuals (Name, Age, and Gender).\n",
    "\n",
    "Then, we create a DataFrame `df` by passing these Series as a dictionary to the `pd.DataFrame()` constructor. Each Series becomes a column in the DataFrame, and the resulting DataFrame has columns labeled 'Name,' 'Age,' and 'Gender' with corresponding values from the Series.\n",
    "\n",
    "This is a common way to create a DataFrame when you have multiple Series representing different attributes of your data, and you want to combine them into a single structured DataFrame."
   ]
  },
  {
   "cell_type": "code",
   "execution_count": null,
   "id": "95fed3f3-604a-4ecb-a09b-afd0a6a66386",
   "metadata": {},
   "outputs": [],
   "source": []
  }
 ],
 "metadata": {
  "kernelspec": {
   "display_name": "Python 3 (ipykernel)",
   "language": "python",
   "name": "python3"
  },
  "language_info": {
   "codemirror_mode": {
    "name": "ipython",
    "version": 3
   },
   "file_extension": ".py",
   "mimetype": "text/x-python",
   "name": "python",
   "nbconvert_exporter": "python",
   "pygments_lexer": "ipython3",
   "version": "3.10.8"
  }
 },
 "nbformat": 4,
 "nbformat_minor": 5
}
