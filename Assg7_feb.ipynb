{
 "cells": [
  {
   "cell_type": "raw",
   "id": "7b9acf7a-abf6-4a73-8cb0-d756fab3f04d",
   "metadata": {},
   "source": [
    "Q1. You are writing code for a company. The requirement of the company is that you create a python\n",
    "function that will check whether the password entered by the user is correct or not. The function should\n",
    "take the password as input and return the string “Valid Password” if the entered password follows the\n",
    "below-given password guidelines else it should return “Invalid Password”.\n",
    "Note: 1. The Password should contain at least two uppercase letters and at least two lowercase letters.\n",
    "2. The Password should contain at least a number and three special characters.\n",
    "3. The length of the password should be 10 characters long."
   ]
  },
  {
   "cell_type": "code",
   "execution_count": 1,
   "id": "34f9106a-faeb-4a55-9cca-fa445a37357f",
   "metadata": {},
   "outputs": [
    {
     "name": "stdout",
     "output_type": "stream",
     "text": [
      "Valid Password\n",
      "Invalid Password\n"
     ]
    }
   ],
   "source": [
    "from functools import reduce\n",
    "\n",
    "def check_password(password):\n",
    "    def is_upper(c):\n",
    "        return c.isupper()\n",
    "\n",
    "    def is_lower(c):\n",
    "        return c.islower()\n",
    "\n",
    "    def is_digit(c):\n",
    "        return c.isdigit()\n",
    "\n",
    "    def is_special(c):\n",
    "        return not c.isalnum()\n",
    "\n",
    "    conditions = [\n",
    "        len(password) == 10,\n",
    "        len(list(filter(is_upper, password))) >= 3,\n",
    "        len(list(filter(is_lower, password))) >= 3,\n",
    "        len(list(filter(is_digit, password))) >= 1,\n",
    "        len(list(filter(is_special, password))) >= 3\n",
    "    ]\n",
    "\n",
    "    if reduce(lambda x, y: x and y, conditions):\n",
    "        return \"Valid Password\"\n",
    "    else:\n",
    "        return \"Invalid Password\"\n",
    "\n",
    "# Test cases\n",
    "print(check_password(\"ABCabc3#$%\"))  # Valid Password\n",
    "print(check_password(\"AB12@xyzabc\"))  # Invalid Password"
   ]
  },
  {
   "cell_type": "code",
   "execution_count": null,
   "id": "b47d207e-f7db-4755-860d-34395897b6b3",
   "metadata": {},
   "outputs": [],
   "source": []
  },
  {
   "cell_type": "raw",
   "id": "83313f88-d6cc-44c8-97c1-c6483d8288d1",
   "metadata": {},
   "source": [
    "Q2. Solve the below-given questions using at least one of the following:\n",
    "1. Lambda functioJ\n",
    "2. Filter functioJ\n",
    "3. Zap functioJ\n",
    "4. List ComprehensioI\n",
    "B Check if the string starts with a particular letterY\n",
    "B Check if the string is numericY\n",
    "B Sort a list of tuples having fruit names and their quantity. [(\"mango\",99),(\"orange\",80), (\"grapes\", 1000)-\n",
    "B Find the squares of numbers from 1 to 10Y\n",
    "B Find the cube root of numbers from 1 to 10Y\n",
    "B Check if a given number is evenY\n",
    "B Filter odd numbers from the given list.\n",
    "[1,2,3,4,5,6,7,8,9,10-\n",
    "B Sort a list of integers into positive and negative integers lists.\n",
    "[1,2,3,4,5,6,-1,-2,-3,-4,-5,0]"
   ]
  },
  {
   "cell_type": "code",
   "execution_count": 2,
   "id": "2b709a41-30e5-4ef5-86b3-bd73f06b6271",
   "metadata": {},
   "outputs": [
    {
     "name": "stdout",
     "output_type": "stream",
     "text": [
      "['banana']\n"
     ]
    }
   ],
   "source": [
    "# 1. Check if the string starts with a particular letter:\n",
    "strings = [\"apple\", \"banana\", \"cherry\", \"date\"]\n",
    "target_letter = \"b\"\n",
    "\n",
    "result = list(filter(lambda s: s.startswith(target_letter), strings))\n",
    "print(result)  "
   ]
  },
  {
   "cell_type": "code",
   "execution_count": 5,
   "id": "a126dbb1-c63a-45f6-a5c0-3f6aff25474a",
   "metadata": {},
   "outputs": [
    {
     "name": "stdout",
     "output_type": "stream",
     "text": [
      "['123', '1786555']\n"
     ]
    }
   ],
   "source": [
    "# 2. Check if the string is numeric:\n",
    "strings=[\"123\",\"apple\",\"1786555\",\"hello\"]\n",
    "result=list(filter(lambda s:s.isnumeric(),strings))\n",
    "print(result)"
   ]
  },
  {
   "cell_type": "code",
   "execution_count": 6,
   "id": "0fe310a0-d6cf-4e0f-8909-966ffffbca2f",
   "metadata": {},
   "outputs": [
    {
     "name": "stdout",
     "output_type": "stream",
     "text": [
      "[('orange', 80), ('mango', 99), ('grapes', 1000)]\n"
     ]
    }
   ],
   "source": [
    "# 3. Sort a list of tuples based on quantity:\n",
    "fruits = [(\"mango\", 99), (\"orange\", 80), (\"grapes\", 1000)]\n",
    "sorted_fruits = sorted(fruits, key=lambda x: x[1])\n",
    "print(sorted_fruits)\n"
   ]
  },
  {
   "cell_type": "code",
   "execution_count": 9,
   "id": "bc9fb8f0-a28e-4a90-964a-eec93d99a9cd",
   "metadata": {},
   "outputs": [
    {
     "name": "stdout",
     "output_type": "stream",
     "text": [
      "[1, 4, 9, 16, 25, 36, 49, 64, 81, 100]\n"
     ]
    }
   ],
   "source": [
    "# 4. Find the squares of numbers from 1 to 10:\n",
    "number=range(1,11)\n",
    "squares=list(map(lambda x:x**2 ,number))\n",
    "print(squares)"
   ]
  },
  {
   "cell_type": "code",
   "execution_count": 10,
   "id": "e4489046-2c92-480d-a2a8-167e36f550d2",
   "metadata": {},
   "outputs": [
    {
     "name": "stdout",
     "output_type": "stream",
     "text": [
      "[1, 8, 27, 64, 125, 216, 343, 512, 729, 1000]\n"
     ]
    }
   ],
   "source": [
    "# 5. Find the cube root of numbers from 1 to 10:\n",
    "number=range(1,11)\n",
    "cube=list(map(lambda x:x**3,number))\n",
    "print(cube)"
   ]
  },
  {
   "cell_type": "code",
   "execution_count": 17,
   "id": "63d3fd41-eaa5-4af5-8858-c96a3aa0c411",
   "metadata": {},
   "outputs": [
    {
     "name": "stdout",
     "output_type": "stream",
     "text": [
      "[2, 4, 56, 734, 45678]\n"
     ]
    }
   ],
   "source": [
    "# 6. Check if a given number is even:\n",
    "def is_even(x):\n",
    "    return x%2 ==0\n",
    "\n",
    "l=[2,3,4,56,734,45678,89,57]\n",
    "even=list(filter(is_even ,l))\n",
    "print(even)"
   ]
  },
  {
   "cell_type": "code",
   "execution_count": 16,
   "id": "f3ed433f-7778-461c-b28f-f8f856c052dd",
   "metadata": {},
   "outputs": [
    {
     "name": "stdout",
     "output_type": "stream",
     "text": [
      "[3, 89, 57]\n"
     ]
    }
   ],
   "source": [
    "# 7. Filter odd numbers from the given list:\n",
    "def is_odd(x):\n",
    "    return x%2 !=0\n",
    "\n",
    "l=[2,3,4,56,734,45678,89,57]\n",
    "odd=list(filter(is_odd,l))\n",
    "print(odd)"
   ]
  },
  {
   "cell_type": "code",
   "execution_count": 18,
   "id": "8c4c87fa-9522-4535-9ecb-2da2523d036a",
   "metadata": {},
   "outputs": [
    {
     "name": "stdout",
     "output_type": "stream",
     "text": [
      "[1, 2, 3, 4, 5, 6]\n",
      "[-1, -2, -3, -4, -5]\n"
     ]
    }
   ],
   "source": [
    "# 8. Sort a list of integers into positive and negative integers lists:\n",
    "numbers = [1, 2, 3, 4, 5, 6, -1, -2, -3, -4, -5, 0]\n",
    "positive_numbers=list(filter(lambda x:x>0,numbers))\n",
    "negative_numbers=list(filter(lambda x:x<0,numbers))\n",
    "print(positive_numbers)\n",
    "print(negative_numbers)"
   ]
  },
  {
   "cell_type": "code",
   "execution_count": null,
   "id": "cc8a5f21-e65d-4e67-acb9-8f91e6d34e70",
   "metadata": {},
   "outputs": [],
   "source": []
  }
 ],
 "metadata": {
  "kernelspec": {
   "display_name": "Python 3 (ipykernel)",
   "language": "python",
   "name": "python3"
  },
  "language_info": {
   "codemirror_mode": {
    "name": "ipython",
    "version": 3
   },
   "file_extension": ".py",
   "mimetype": "text/x-python",
   "name": "python",
   "nbconvert_exporter": "python",
   "pygments_lexer": "ipython3",
   "version": "3.10.8"
  }
 },
 "nbformat": 4,
 "nbformat_minor": 5
}
