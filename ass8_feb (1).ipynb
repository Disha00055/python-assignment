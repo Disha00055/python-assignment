{
 "cells": [
  {
   "cell_type": "markdown",
   "id": "b153c2a1-713c-463d-ad2f-cf0c21bd1272",
   "metadata": {},
   "source": [
    "Q1. What is Abstraction in OOps? Explain with an example.\n",
    "answer:\n",
    "Abstraction in object-oriented programming refers to the concept of simplifying complex real-world entities by focusing on the essential features and hiding unnecessary details. It allows you to create classes and objects that represent real-world entities, while only exposing the necessary attributes and behaviors to the users of those objects.\n",
    "\n",
    "A simple example of abstraction can be understood with the concept of a \"Vehicle.\" A vehicle can be a car, a bike, or a bus, each with its own unique characteristics and functions. Abstraction helps us create a common interface for all vehicles while hiding the complexities of each type of vehicle.\n",
    "\n",
    "Let's create a simplified example of an abstract Vehicle class and its concrete subclasses\n"
   ]
  },
  {
   "cell_type": "code",
   "execution_count": 12,
   "id": "199ec82a-d34f-4dc8-9ba6-b3a79e4fb1bd",
   "metadata": {},
   "outputs": [
    {
     "name": "stdout",
     "output_type": "stream",
     "text": [
      "Toyota Corolla car has started.\n",
      "Honda CBR bike has stopped.\n"
     ]
    }
   ],
   "source": [
    "from abc import ABC, abstractmethod\n",
    "\n",
    "class Vehicle(ABC):\n",
    "    def __init__(self, brand, model):\n",
    "        self.brand = brand\n",
    "        self.model = model\n",
    "\n",
    "    @abstractmethod\n",
    "    def start(self):\n",
    "        pass\n",
    "\n",
    "    @abstractmethod\n",
    "    def stop(self):\n",
    "        pass\n",
    "\n",
    "class Car(Vehicle):\n",
    "    def start(self):\n",
    "        return f\"{self.brand} {self.model} car has started.\"\n",
    "\n",
    "    def stop(self):\n",
    "        return f\"{self.brand} {self.model} car has stopped.\"\n",
    "\n",
    "class Bike(Vehicle):\n",
    "    def start(self):\n",
    "        return f\"{self.brand} {self.model} bike has started.\"\n",
    "\n",
    "    def stop(self):\n",
    "        return f\"{self.brand} {self.model} bike has stopped.\"\n",
    "\n",
    "# Create instances of concrete subclasses\n",
    "my_car = Car(\"Toyota\", \"Corolla\")\n",
    "my_bike = Bike(\"Honda\", \"CBR\")\n",
    "\n",
    "# Using the common interface without knowing internal details\n",
    "print(my_car.start())  # Output: Toyota Corolla car has started.\n",
    "print(my_bike.stop())  # Output: Honda CBR bike has stopped.\n"
   ]
  },
  {
   "cell_type": "markdown",
   "id": "98835950-ba0d-4422-a985-d2590a769bc3",
   "metadata": {},
   "source": [
    "Q2. Differentiate between Abstraction and Encapsulation. Explain with an example.\n",
    "ans:Abstraction is concerned with presenting the essential features of an object, while encapsulation is about bundling data and methods together and controlling access to them.\n",
    "\n",
    "Abstraction hides complexity by showing only relevant information to the user, while encapsulation hides implementation details to protect data integrity.\n",
    "\n",
    "Abstraction focuses on the external view of an object, emphasizing what an object does, while encapsulation focuses on how an object does it and how it protects its internal state."
   ]
  },
  {
   "cell_type": "code",
   "execution_count": 13,
   "id": "1479b92e-7e3f-4a1a-a9a1-347326c4a0a0",
   "metadata": {},
   "outputs": [
    {
     "name": "stdout",
     "output_type": "stream",
     "text": [
      "TV channel changed to 5\n",
      "Smartphone app changed channel to 7\n"
     ]
    }
   ],
   "source": [
    "#abstraction\n",
    "from abc import ABC, abstractmethod\n",
    "\n",
    "class RemoteControl(ABC):\n",
    "    @abstractmethod\n",
    "    def change_channel(self, channel):\n",
    "        pass\n",
    "\n",
    "class TV(RemoteControl):\n",
    "    def change_channel(self, channel):\n",
    "        print(f\"TV channel changed to {channel}\")\n",
    "\n",
    "class SmartPhone(RemoteControl):\n",
    "    def change_channel(self, channel):\n",
    "        print(f\"Smartphone app changed channel to {channel}\")\n",
    "\n",
    "tv_remote = TV()\n",
    "phone_remote = SmartPhone()\n",
    "\n",
    "tv_remote.change_channel(5)     # Output: TV channel changed to 5\n",
    "phone_remote.change_channel(7)  # Output: Smartphone app changed channel to 7\n"
   ]
  },
  {
   "cell_type": "code",
   "execution_count": 14,
   "id": "7096358a-dba7-4591-8b74-0028c2d5aaea",
   "metadata": {},
   "outputs": [
    {
     "name": "stdout",
     "output_type": "stream",
     "text": [
      "Deposited 1000. New balance: 1000\n",
      "Withdrew 500. New balance: 500\n",
      "500\n"
     ]
    }
   ],
   "source": [
    "#encapsulation\n",
    "class BankAccount:\n",
    "    def __init__(self):\n",
    "        self._balance = 0  # Encapsulated attribute with a leading underscore\n",
    "\n",
    "    def deposit(self, amount):\n",
    "        if amount > 0:\n",
    "            self._balance += amount\n",
    "            print(f\"Deposited {amount}. New balance: {self._balance}\")\n",
    "\n",
    "    def withdraw(self, amount):\n",
    "        if 0 < amount <= self._balance:\n",
    "            self._balance -= amount\n",
    "            print(f\"Withdrew {amount}. New balance: {self._balance}\")\n",
    "        else:\n",
    "            print(\"Insufficient funds\")\n",
    "\n",
    "    def get_balance(self):\n",
    "        return self._balance\n",
    "\n",
    "account = BankAccount()\n",
    "account.deposit(1000)  # Output: Deposited 1000. New balance: 1000\n",
    "account.withdraw(500)  # Output: Withdrew 500. New balance: 500\n",
    "\n",
    "print(account.get_balance())  # Output: 500\n"
   ]
  },
  {
   "cell_type": "markdown",
   "id": "cad85c93-2183-4253-86a6-b8e6aa8ab774",
   "metadata": {},
   "source": [
    "# Q3. What is abc module in python? Why is it used?\n",
    "The abc module in Python stands for \"Abstract Base Classes.\" It provides a way to define abstract classes and enforce certain rules and structures on derived classes. Abstract classes are classes that cannot be instantiated on their own; they are meant to serve as blueprints for other classes to inherit from.\n",
    "\n",
    "The main purpose of the abc module is to promote a common interface or structure among a group of related classes. This helps ensure consistency, clarity, and proper design in a program by enforcing the implementation of specific methods in derived classes.\n",
    "\n",
    "Here's why the abc module is used:\n",
    "\n",
    "Defining Abstract Base Classes: The abc module allows you to define abstract base classes by using the ABC metaclass. Abstract base classes can have abstract methods that must be overridden in derived classes.\n",
    "\n",
    "Forcing Method Implementation: Abstract base classes can define abstract methods without providing implementations. Subclasses that inherit from these abstract classes are required to implement these methods. This ensures that classes adhere to a certain interface or behavior.\n",
    "\n",
    "Preventing Direct Instantiation: Abstract classes themselves cannot be instantiated, which enforces the idea that they are meant to be inherited from. This helps establish a clear hierarchy of classes.\n",
    "\n",
    "Polymorphism and Consistency: By enforcing a common interface through abstract classes, you ensure that derived classes share a consistent structure. This promotes polymorphism, where objects of different classes can be used interchangeably."
   ]
  },
  {
   "cell_type": "markdown",
   "id": "dcdfd6b6-2347-4bbe-b45a-e1ea3e005277",
   "metadata": {},
   "source": [
    "Q4. How can we achieve data abstraction?\n",
    "Data abstraction is a fundamental concept in computer science and software engineering that involves representing complex real-world data or systems in a simplified manner, while hiding unnecessary details and exposing only the relevant features. This helps in managing complexity, improving modularity, and enhancing the overall maintainability of software systems. Achieving data abstraction typically involves the following techniques:\n",
    "\n",
    "1. **Encapsulation**: Encapsulation is the practice of bundling data and the methods that operate on that data into a single unit, often referred to as a class or an object. This allows you to hide the internal implementation details of the data and only expose the necessary methods for interacting with it. By defining clear interfaces and access control mechanisms, you ensure that the data is manipulated in a controlled and consistent manner.\n",
    "\n",
    "2. **Class and Object Hierarchies**: Organizing related data and behaviors into classes and creating object hierarchies enables you to represent complex relationships and structures in a more manageable way. Inheritance allows you to create new classes based on existing ones, inheriting their attributes and methods, and adding or modifying them as needed.\n",
    "\n",
    "3. **Abstraction Layers**: Abstraction layers provide a structured way to interact with complex systems by dividing them into manageable levels of functionality. Each layer abstracts away the complexities of the layers below it, providing a clean and simplified interface for the layer above. This approach is commonly used in networking protocols, operating systems, and other complex software systems.\n",
    "\n",
    "4. **Interfaces and Abstract Classes**: Interfaces and abstract classes define contracts that outline the methods and properties a class must implement. By using interfaces and abstract classes, you can define a common set of behaviors that multiple classes can adhere to, promoting consistent and interchangeable components.\n",
    "\n",
    "5. **Modularization**: Breaking down a complex system into smaller, modular components promotes data abstraction. Each module can encapsulate its own data and functionality, exposing a limited and well-defined interface to the rest of the system. This allows you to focus on the interactions between modules rather than the internal workings of each module.\n",
    "\n",
    "6. **Information Hiding**: Information hiding is a principle that suggests that the inner workings of a module should be hidden from other modules that interact with it. This reduces the dependencies between modules and allows for easier changes to be made to the internal implementation without affecting the external components.\n",
    "\n",
    "7. **Data Modeling and Design Patterns**: Effective data abstraction often involves careful data modeling and the use of design patterns. Design patterns provide reusable solutions to common software design problems. Patterns like the Factory Pattern, Singleton Pattern, and Observer Pattern can help structure your code in an abstract and maintainable manner.\n",
    "\n",
    "8. **Polymorphism**: Polymorphism allows objects of different classes to be treated as instances of a common superclass. This concept promotes code reuse and flexibility by allowing you to write code that works with a variety of objects without needing to know their exact types.\n",
    "\n",
    "In summary, achieving data abstraction involves using techniques such as encapsulation, inheritance, abstraction layers, interfaces, modularization, information hiding, design patterns, and polymorphism. By applying these concepts, you can create software systems that are easier to understand, maintain, and extend."
   ]
  },
  {
   "cell_type": "markdown",
   "id": "d8e6b2c8-4b31-496a-a7ce-ab02f8619266",
   "metadata": {},
   "source": [
    "Q5. Can we create an instance of an abstract class? Explain your answer.\n",
    "ans:No, you cannot create an instance of an abstract class. An abstract class is a class that is declared with the intention of being inherited by other classes. It serves as a blueprint for creating derived classes that provide concrete implementations for the abstract methods declared in the abstract class. Abstract classes cannot be instantiated directly because they often contain incomplete or undefined methods that must be implemented by the subclasses.\n",
    "\n",
    "Here's why you cannot create an instance of an abstract class:\n",
    "\n",
    "Unimplemented Methods: Abstract classes often include one or more abstract methods, which are methods without a body. These methods are meant to be overridden by subclasses to provide their own implementations. Since abstract classes contain these unimplemented methods, creating an instance of an abstract class would result in having incomplete functionality, which is not desirable.\n",
    "\n",
    "Incomplete Class Definition: Abstract classes are meant to be extended and completed by subclasses. They provide a structure and some common behavior that subclasses can build upon. Creating an instance of an abstract class would lead to an object with missing or undefined behavior.\n",
    "\n",
    "To use an abstract class, you need to create a subclass (concrete class) that inherits from the abstract class and provides implementations for all the abstract methods. This subclass can be instantiated and used to create objects."
   ]
  },
  {
   "cell_type": "code",
   "execution_count": null,
   "id": "e7de1941-2f02-4eab-9f96-f408f810b772",
   "metadata": {},
   "outputs": [],
   "source": []
  }
 ],
 "metadata": {
  "kernelspec": {
   "display_name": "Python 3 (ipykernel)",
   "language": "python",
   "name": "python3"
  },
  "language_info": {
   "codemirror_mode": {
    "name": "ipython",
    "version": 3
   },
   "file_extension": ".py",
   "mimetype": "text/x-python",
   "name": "python",
   "nbconvert_exporter": "python",
   "pygments_lexer": "ipython3",
   "version": "3.10.8"
  }
 },
 "nbformat": 4,
 "nbformat_minor": 5
}
